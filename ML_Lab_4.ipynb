{
  "nbformat": 4,
  "nbformat_minor": 0,
  "metadata": {
    "colab": {
      "provenance": [],
      "authorship_tag": "ABX9TyM36wv+A54sWAheXWZwultj",
      "include_colab_link": true
    },
    "kernelspec": {
      "name": "python3",
      "display_name": "Python 3"
    },
    "language_info": {
      "name": "python"
    }
  },
  "cells": [
    {
      "cell_type": "markdown",
      "metadata": {
        "id": "view-in-github",
        "colab_type": "text"
      },
      "source": [
        "<a href=\"https://colab.research.google.com/github/IvanovMaxim2000/Homework_AI/blob/main/ML_Lab_4.ipynb\" target=\"_parent\"><img src=\"https://colab.research.google.com/assets/colab-badge.svg\" alt=\"Open In Colab\"/></a>"
      ]
    },
    {
      "cell_type": "markdown",
      "source": [
        "# Лабораторная работа № 4\n",
        "## Optuna\n",
        "## Постановка задачи:\n",
        "\n",
        "\n",
        "1.   С помощью Optuna найти оптимум тестовых функций\n",
        "2.   Для датасета, взятого с sklearn, оптимизировать гиперпараметры с помощью Optuna\n",
        "\n"
      ],
      "metadata": {
        "id": "asIV6H00aAk9"
      }
    },
    {
      "cell_type": "markdown",
      "source": [
        "## Импортирование библиотек"
      ],
      "metadata": {
        "id": "bxDOxSHIrv3D"
      }
    },
    {
      "cell_type": "code",
      "source": [
        "!pip install optuna"
      ],
      "metadata": {
        "id": "bfMrWjWzsBqg"
      },
      "execution_count": null,
      "outputs": []
    },
    {
      "cell_type": "code",
      "execution_count": null,
      "metadata": {
        "id": "C_2Znj_WZ73h"
      },
      "outputs": [],
      "source": [
        "import sys\n",
        "import math\n",
        "import optuna\n",
        "import sklearn\n",
        "import plotly\n",
        "import numpy as np\n",
        "import sklearn.datasets\n",
        "from sklearn import metrics\n",
        "from sklearn.datasets import make_classification\n",
        "from sklearn.linear_model import LogisticRegression\n",
        "from sklearn.model_selection import train_test_split\n",
        "\n",
        "from matplotlib import pyplot as plt"
      ]
    },
    {
      "cell_type": "code",
      "source": [
        "class But:\n",
        "\n",
        "  @staticmethod\n",
        "  def func(x : np.array):\n",
        "    return (x[0] + 2*x[1] -7)**2 + (2*x[0] + x[1] - 5)**2\n",
        "\n",
        "  @staticmethod\n",
        "  def dx(x : np.array):\n",
        "    return 6*x[0];\n",
        "\n",
        "  @staticmethod\n",
        "  def dy(x : np.array):\n",
        "    return 6*x[1];\n",
        "\n",
        "  @staticmethod\n",
        "  def glob_min():\n",
        "      return np.array([1,3,0])\n",
        "    \n",
        "  @staticmethod\n",
        "  def start_point():\n",
        "      return np.array([-10, 5])"
      ],
      "metadata": {
        "id": "_9lj4wyzrzee"
      },
      "execution_count": null,
      "outputs": []
    },
    {
      "cell_type": "code",
      "source": [
        "class Matiac:\n",
        "\n",
        "  @staticmethod\n",
        "  def func(x : np.array):\n",
        "    return 0.26*(x[0]*x[0] +x[1]*x[1])-0.48*x[0]*x[1]\n",
        "\n",
        "  @staticmethod\n",
        "  def dx(x : np.array):\n",
        "    return 0.52*x[0] - 0.48 * x[1]\n",
        "\n",
        "  @staticmethod\n",
        "  def dy(x : np.array):\n",
        "    return 0.52*x[1] - 0.48 * x[0]\n",
        "\n",
        "  @staticmethod\n",
        "  def glob_min():\n",
        "      return np.array([0,0,0])\n",
        "\n",
        "  @staticmethod\n",
        "  def start_point():\n",
        "      return np.array([-10, 5])\n"
      ],
      "metadata": {
        "id": "mj1coalHsjh5"
      },
      "execution_count": null,
      "outputs": []
    },
    {
      "cell_type": "markdown",
      "source": [
        "## Определяем функцию, которую необходимо оптимизировать"
      ],
      "metadata": {
        "id": "bImf4sW-zXod"
      }
    },
    {
      "cell_type": "code",
      "source": [
        "def objective(trial, f):\n",
        "  x = np.array([0,0])\n",
        "  # Задаем гиперпараметры \n",
        "  x[0] = trial.suggest_float(\"x\", -10, 10)\n",
        "  x[1] = trial.suggest_float(\"y\", -10, 10)\n",
        "  return f.func(x)"
      ],
      "metadata": {
        "id": "9VhaNFIbsmd6"
      },
      "execution_count": null,
      "outputs": []
    },
    {
      "cell_type": "markdown",
      "source": [
        "## Функция отрисовки истории поиска"
      ],
      "metadata": {
        "id": "fg4J-LTN4Giv"
      }
    },
    {
      "cell_type": "code",
      "source": [
        "def draw(study):\n",
        "    fig = optuna.visualization.plot_contour(study)\n",
        "    fig = optuna.visualization.plot_optimization_history(study)\n",
        "    fig.show()"
      ],
      "metadata": {
        "id": "J_YHkVoW0ro-"
      },
      "execution_count": null,
      "outputs": []
    },
    {
      "cell_type": "markdown",
      "source": [
        "## Поиск оптимума для функции Бута"
      ],
      "metadata": {
        "id": "7VlHNsJIzhmC"
      }
    },
    {
      "cell_type": "code",
      "source": [
        "# Создаём объект обучения\n",
        "study = optuna.create_study()\n",
        "study.optimize(lambda t: objective(t, f = But), n_trials=100)\n",
        "\n",
        "best_params = study.best_params\n",
        "found_x = best_params[\"x\"]\n",
        "found_y = best_params[\"y\"]\n",
        "\n",
        "draw(study)\n",
        "\n",
        "print(f\"\\nFound x: {found_x}, Found y: {found_y}, Result: {But.func([found_x, found_y])}\")"
      ],
      "metadata": {
        "colab": {
          "base_uri": "https://localhost:8080/",
          "height": 1000
        },
        "id": "hlAkfn64ziui",
        "outputId": "9f5e8174-7769-4d46-ba9a-6b4b6aa0f77c"
      },
      "execution_count": null,
      "outputs": [
        {
          "output_type": "stream",
          "name": "stderr",
          "text": [
            "\u001b[32m[I 2023-01-16 10:48:11,797]\u001b[0m A new study created in memory with name: no-name-3ee8c9c0-a58a-422b-9113-ab9982c055a4\u001b[0m\n",
            "\u001b[32m[I 2023-01-16 10:48:11,802]\u001b[0m Trial 0 finished with value: 26.0 and parameters: {'x': -2.0487589558005244, 'y': 4.282381208920704}. Best is trial 0 with value: 26.0.\u001b[0m\n",
            "\u001b[32m[I 2023-01-16 10:48:11,805]\u001b[0m Trial 1 finished with value: 29.0 and parameters: {'x': 5.4409947850761, 'y': -0.523485593549772}. Best is trial 0 with value: 26.0.\u001b[0m\n",
            "\u001b[32m[I 2023-01-16 10:48:11,810]\u001b[0m Trial 2 finished with value: 761.0 and parameters: {'x': 8.515219900867425, 'y': 9.406276435054998}. Best is trial 0 with value: 26.0.\u001b[0m\n",
            "\u001b[32m[I 2023-01-16 10:48:11,812]\u001b[0m Trial 3 finished with value: 1625.0 and parameters: {'x': -9.126356767023589, 'y': -6.970121173163797}. Best is trial 0 with value: 26.0.\u001b[0m\n",
            "\u001b[32m[I 2023-01-16 10:48:11,816]\u001b[0m Trial 4 finished with value: 416.0 and parameters: {'x': 5.118804606271949, 'y': -9.763778088296322}. Best is trial 0 with value: 26.0.\u001b[0m\n",
            "\u001b[32m[I 2023-01-16 10:48:11,819]\u001b[0m Trial 5 finished with value: 1625.0 and parameters: {'x': -9.49016894842453, 'y': -6.693423133283383}. Best is trial 0 with value: 26.0.\u001b[0m\n",
            "\u001b[32m[I 2023-01-16 10:48:11,823]\u001b[0m Trial 6 finished with value: 164.0 and parameters: {'x': 5.239025253274148, 'y': 5.675905815685203}. Best is trial 0 with value: 26.0.\u001b[0m\n",
            "\u001b[32m[I 2023-01-16 10:48:11,826]\u001b[0m Trial 7 finished with value: 765.0 and parameters: {'x': -7.356370600579487, 'y': -2.200098274203725}. Best is trial 0 with value: 26.0.\u001b[0m\n",
            "\u001b[32m[I 2023-01-16 10:48:11,830]\u001b[0m Trial 8 finished with value: 260.0 and parameters: {'x': -9.305406628386987, 'y': 7.337167191262768}. Best is trial 0 with value: 26.0.\u001b[0m\n",
            "\u001b[32m[I 2023-01-16 10:48:11,834]\u001b[0m Trial 9 finished with value: 365.0 and parameters: {'x': -4.964489071167093, 'y': -1.119421528853028}. Best is trial 0 with value: 26.0.\u001b[0m\n",
            "\u001b[32m[I 2023-01-16 10:48:11,854]\u001b[0m Trial 10 finished with value: 20.0 and parameters: {'x': -1.9191760794390236, 'y': 3.7295894858954663}. Best is trial 10 with value: 20.0.\u001b[0m\n",
            "\u001b[32m[I 2023-01-16 10:48:11,867]\u001b[0m Trial 11 finished with value: 20.0 and parameters: {'x': -1.4328113481399019, 'y': 3.6742498248689843}. Best is trial 10 with value: 20.0.\u001b[0m\n",
            "\u001b[32m[I 2023-01-16 10:48:11,878]\u001b[0m Trial 12 finished with value: 5.0 and parameters: {'x': 0.7999229928873386, 'y': 3.4926160896046987}. Best is trial 12 with value: 5.0.\u001b[0m\n",
            "\u001b[32m[I 2023-01-16 10:48:11,889]\u001b[0m Trial 13 finished with value: 5.0 and parameters: {'x': 1.3920818397255488, 'y': 2.2523569930119907}. Best is trial 12 with value: 5.0.\u001b[0m\n",
            "\u001b[32m[I 2023-01-16 10:48:11,899]\u001b[0m Trial 14 finished with value: 20.0 and parameters: {'x': 1.9030169310005853, 'y': 1.3149943044097783}. Best is trial 12 with value: 5.0.\u001b[0m\n",
            "\u001b[32m[I 2023-01-16 10:48:11,911]\u001b[0m Trial 15 finished with value: 9.0 and parameters: {'x': 2.0862394591236226, 'y': 1.7192341563705984}. Best is trial 12 with value: 5.0.\u001b[0m\n",
            "\u001b[32m[I 2023-01-16 10:48:11,924]\u001b[0m Trial 16 finished with value: 180.0 and parameters: {'x': 1.2746178459328283, 'y': -3.2784224337231427}. Best is trial 12 with value: 5.0.\u001b[0m\n",
            "\u001b[32m[I 2023-01-16 10:48:11,942]\u001b[0m Trial 17 finished with value: 50.0 and parameters: {'x': -4.052885736545784, 'y': 8.46209180216746}. Best is trial 12 with value: 5.0.\u001b[0m\n",
            "\u001b[32m[I 2023-01-16 10:48:11,955]\u001b[0m Trial 18 finished with value: 8.0 and parameters: {'x': 3.3263195546647344, 'y': 1.451000741502528}. Best is trial 12 with value: 5.0.\u001b[0m\n",
            "\u001b[32m[I 2023-01-16 10:48:11,967]\u001b[0m Trial 19 finished with value: 26.0 and parameters: {'x': 0.038003759690264705, 'y': 6.441194916464726}. Best is trial 12 with value: 5.0.\u001b[0m\n",
            "\u001b[32m[I 2023-01-16 10:48:11,980]\u001b[0m Trial 20 finished with value: 89.0 and parameters: {'x': 7.71770668244511, 'y': -4.170957355660964}. Best is trial 12 with value: 5.0.\u001b[0m\n",
            "\u001b[32m[I 2023-01-16 10:48:11,991]\u001b[0m Trial 21 finished with value: 9.0 and parameters: {'x': 3.077632757024247, 'y': 2.1849555033096255}. Best is trial 12 with value: 5.0.\u001b[0m\n",
            "\u001b[32m[I 2023-01-16 10:48:12,005]\u001b[0m Trial 22 finished with value: 17.0 and parameters: {'x': 3.755727915524647, 'y': 0.7286653368959892}. Best is trial 12 with value: 5.0.\u001b[0m\n",
            "\u001b[32m[I 2023-01-16 10:48:12,017]\u001b[0m Trial 23 finished with value: 9.0 and parameters: {'x': -0.023265913806660845, 'y': 5.075219468659318}. Best is trial 12 with value: 5.0.\u001b[0m\n",
            "\u001b[32m[I 2023-01-16 10:48:12,030]\u001b[0m Trial 24 finished with value: 18.0 and parameters: {'x': 0.15382732591761628, 'y': 2.964352812422547}. Best is trial 12 with value: 5.0.\u001b[0m\n",
            "\u001b[32m[I 2023-01-16 10:48:12,041]\u001b[0m Trial 25 finished with value: 50.0 and parameters: {'x': 6.926548649314407, 'y': 0.11377113879395231}. Best is trial 12 with value: 5.0.\u001b[0m\n",
            "\u001b[32m[I 2023-01-16 10:48:12,053]\u001b[0m Trial 26 finished with value: 36.0 and parameters: {'x': 3.672860274970637, 'y': -1.6698669084006887}. Best is trial 12 with value: 5.0.\u001b[0m\n",
            "\u001b[32m[I 2023-01-16 10:48:12,064]\u001b[0m Trial 27 finished with value: 261.0 and parameters: {'x': 9.416035472960832, 'y': 2.4862329541835386}. Best is trial 12 with value: 5.0.\u001b[0m\n",
            "\u001b[32m[I 2023-01-16 10:48:12,076]\u001b[0m Trial 28 finished with value: 32.0 and parameters: {'x': -3.6139308409216433, 'y': 7.17619672168493}. Best is trial 12 with value: 5.0.\u001b[0m\n",
            "\u001b[32m[I 2023-01-16 10:48:12,093]\u001b[0m Trial 29 finished with value: 9.0 and parameters: {'x': -1.2578415960612914, 'y': 4.852169057633439}. Best is trial 12 with value: 5.0.\u001b[0m\n",
            "\u001b[32m[I 2023-01-16 10:48:12,106]\u001b[0m Trial 30 finished with value: 74.0 and parameters: {'x': 0.8964918652207091, 'y': 0.5322755580576897}. Best is trial 12 with value: 5.0.\u001b[0m\n",
            "\u001b[32m[I 2023-01-16 10:48:12,118]\u001b[0m Trial 31 finished with value: 9.0 and parameters: {'x': 2.640767394350206, 'y': 1.7479441902730055}. Best is trial 12 with value: 5.0.\u001b[0m\n",
            "\u001b[32m[I 2023-01-16 10:48:12,130]\u001b[0m Trial 32 finished with value: 45.0 and parameters: {'x': 4.34661911886252, 'y': 3.0341506461513825}. Best is trial 12 with value: 5.0.\u001b[0m\n",
            "\u001b[32m[I 2023-01-16 10:48:12,145]\u001b[0m Trial 33 finished with value: 65.0 and parameters: {'x': 6.685116447482575, 'y': 1.0925079585824675}. Best is trial 12 with value: 5.0.\u001b[0m\n",
            "\u001b[32m[I 2023-01-16 10:48:12,158]\u001b[0m Trial 34 finished with value: 18.0 and parameters: {'x': 2.9086707258474873, 'y': 4.382212218781031}. Best is trial 12 with value: 5.0.\u001b[0m\n",
            "\u001b[32m[I 2023-01-16 10:48:12,171]\u001b[0m Trial 35 finished with value: 26.0 and parameters: {'x': 2.658163877861157, 'y': -0.3535419135628488}. Best is trial 12 with value: 5.0.\u001b[0m\n",
            "\u001b[32m[I 2023-01-16 10:48:12,187]\u001b[0m Trial 36 finished with value: 113.0 and parameters: {'x': 4.619315219844632, 'y': 5.75663684255061}. Best is trial 12 with value: 5.0.\u001b[0m\n",
            "\u001b[32m[I 2023-01-16 10:48:12,201]\u001b[0m Trial 37 finished with value: 458.0 and parameters: {'x': -2.836135125797596, 'y': -4.387947214691526}. Best is trial 12 with value: 5.0.\u001b[0m\n",
            "\u001b[32m[I 2023-01-16 10:48:12,214]\u001b[0m Trial 38 finished with value: 29.0 and parameters: {'x': 5.755015715454142, 'y': -0.4477567029813989}. Best is trial 12 with value: 5.0.\u001b[0m\n",
            "\u001b[32m[I 2023-01-16 10:48:12,225]\u001b[0m Trial 39 finished with value: 137.0 and parameters: {'x': -0.8298274465238022, 'y': 9.857470523869031}. Best is trial 12 with value: 5.0.\u001b[0m\n",
            "\u001b[32m[I 2023-01-16 10:48:12,234]\u001b[0m Trial 40 finished with value: 125.0 and parameters: {'x': 1.2338263246857122, 'y': -2.723020732642606}. Best is trial 12 with value: 5.0.\u001b[0m\n",
            "\u001b[32m[I 2023-01-16 10:48:12,245]\u001b[0m Trial 41 finished with value: 2.0 and parameters: {'x': -0.39893836030201824, 'y': 4.663705994383873}. Best is trial 41 with value: 2.0.\u001b[0m\n",
            "\u001b[32m[I 2023-01-16 10:48:12,256]\u001b[0m Trial 42 finished with value: 2.0 and parameters: {'x': -0.8959714605722209, 'y': 4.657223567167501}. Best is trial 41 with value: 2.0.\u001b[0m\n",
            "\u001b[32m[I 2023-01-16 10:48:12,265]\u001b[0m Trial 43 finished with value: 180.0 and parameters: {'x': -5.782764369922155, 'y': 3.7363934526126297}. Best is trial 41 with value: 2.0.\u001b[0m\n",
            "\u001b[32m[I 2023-01-16 10:48:12,275]\u001b[0m Trial 44 finished with value: 90.0 and parameters: {'x': -0.11069826545909645, 'y': 8.47603700357277}. Best is trial 41 with value: 2.0.\u001b[0m\n",
            "\u001b[32m[I 2023-01-16 10:48:12,285]\u001b[0m Trial 45 finished with value: 18.0 and parameters: {'x': -2.1016877592205354, 'y': 6.164521988549735}. Best is trial 41 with value: 2.0.\u001b[0m\n",
            "\u001b[32m[I 2023-01-16 10:48:12,297]\u001b[0m Trial 46 finished with value: 26.0 and parameters: {'x': -2.5953847336769478, 'y': 4.406161120198891}. Best is trial 41 with value: 2.0.\u001b[0m\n",
            "\u001b[32m[I 2023-01-16 10:48:12,308]\u001b[0m Trial 47 finished with value: 5.0 and parameters: {'x': 0.7828589274952515, 'y': 3.4247668510395926}. Best is trial 41 with value: 2.0.\u001b[0m\n",
            "\u001b[32m[I 2023-01-16 10:48:12,319]\u001b[0m Trial 48 finished with value: 5.0 and parameters: {'x': -0.7831623650794534, 'y': 3.3583421327119414}. Best is trial 41 with value: 2.0.\u001b[0m\n",
            "\u001b[32m[I 2023-01-16 10:48:12,331]\u001b[0m Trial 49 finished with value: 821.0 and parameters: {'x': -0.6811661044879656, 'y': -9.956690416775944}. Best is trial 41 with value: 2.0.\u001b[0m\n",
            "\u001b[32m[I 2023-01-16 10:48:12,348]\u001b[0m Trial 50 finished with value: 104.0 and parameters: {'x': -5.763970360337256, 'y': 5.244812366440365}. Best is trial 41 with value: 2.0.\u001b[0m\n",
            "\u001b[32m[I 2023-01-16 10:48:12,369]\u001b[0m Trial 51 finished with value: 0.0 and parameters: {'x': 1.003183796567401, 'y': 3.3942603574996157}. Best is trial 51 with value: 0.0.\u001b[0m\n",
            "\u001b[32m[I 2023-01-16 10:48:12,388]\u001b[0m Trial 52 finished with value: 41.0 and parameters: {'x': -1.5049862419277544, 'y': 2.757374105731508}. Best is trial 51 with value: 0.0.\u001b[0m\n",
            "\u001b[32m[I 2023-01-16 10:48:12,405]\u001b[0m Trial 53 finished with value: 0.0 and parameters: {'x': 1.8299755493703458, 'y': 3.964473038012271}. Best is trial 51 with value: 0.0.\u001b[0m\n",
            "\u001b[32m[I 2023-01-16 10:48:12,428]\u001b[0m Trial 54 finished with value: 45.0 and parameters: {'x': 1.9564671064818313, 'y': 6.77017438770491}. Best is trial 51 with value: 0.0.\u001b[0m\n",
            "\u001b[32m[I 2023-01-16 10:48:12,444]\u001b[0m Trial 55 finished with value: 90.0 and parameters: {'x': 0.6191182638848949, 'y': 8.208567920413746}. Best is trial 51 with value: 0.0.\u001b[0m\n",
            "\u001b[32m[I 2023-01-16 10:48:12,461]\u001b[0m Trial 56 finished with value: 5.0 and parameters: {'x': -0.7718084307108576, 'y': 3.8840736420450437}. Best is trial 51 with value: 0.0.\u001b[0m\n",
            "\u001b[32m[I 2023-01-16 10:48:12,477]\u001b[0m Trial 57 finished with value: 53.0 and parameters: {'x': -3.27503689788605, 'y': 4.2510094710492545}. Best is trial 51 with value: 0.0.\u001b[0m\n",
            "\u001b[32m[I 2023-01-16 10:48:12,496]\u001b[0m Trial 58 finished with value: 20.0 and parameters: {'x': 1.623395762247467, 'y': 1.9450497880823607}. Best is trial 51 with value: 0.0.\u001b[0m\n",
            "\u001b[32m[I 2023-01-16 10:48:12,509]\u001b[0m Trial 59 finished with value: 9.0 and parameters: {'x': -0.4869137919264068, 'y': 5.662686705368814}. Best is trial 51 with value: 0.0.\u001b[0m\n",
            "\u001b[32m[I 2023-01-16 10:48:12,521]\u001b[0m Trial 60 finished with value: 45.0 and parameters: {'x': -2.080480309838648, 'y': 3.8659416996803895}. Best is trial 51 with value: 0.0.\u001b[0m\n",
            "\u001b[32m[I 2023-01-16 10:48:12,535]\u001b[0m Trial 61 finished with value: 2.0 and parameters: {'x': 0.45757605103400656, 'y': 4.903179454325921}. Best is trial 51 with value: 0.0.\u001b[0m\n",
            "\u001b[32m[I 2023-01-16 10:48:12,548]\u001b[0m Trial 62 finished with value: 53.0 and parameters: {'x': 0.5330136213979276, 'y': 7.5825387007761895}. Best is trial 51 with value: 0.0.\u001b[0m\n",
            "\u001b[32m[I 2023-01-16 10:48:12,560]\u001b[0m Trial 63 finished with value: 18.0 and parameters: {'x': 2.2187636495838494, 'y': 4.667574433841639}. Best is trial 51 with value: 0.0.\u001b[0m\n",
            "\u001b[32m[I 2023-01-16 10:48:12,573]\u001b[0m Trial 64 finished with value: 9.0 and parameters: {'x': -0.8085422521883117, 'y': 5.506651147490192}. Best is trial 51 with value: 0.0.\u001b[0m\n",
            "\u001b[32m[I 2023-01-16 10:48:12,588]\u001b[0m Trial 65 finished with value: 50.0 and parameters: {'x': -4.446819584854561, 'y': 6.108739096776334}. Best is trial 51 with value: 0.0.\u001b[0m\n",
            "\u001b[32m[I 2023-01-16 10:48:12,599]\u001b[0m Trial 66 finished with value: 5.0 and parameters: {'x': 1.1394686631664748, 'y': 2.50468366932767}. Best is trial 51 with value: 0.0.\u001b[0m\n",
            "\u001b[32m[I 2023-01-16 10:48:12,611]\u001b[0m Trial 67 finished with value: 41.0 and parameters: {'x': -1.3691483415265866, 'y': 2.4857392113598866}. Best is trial 51 with value: 0.0.\u001b[0m\n",
            "\u001b[32m[I 2023-01-16 10:48:12,623]\u001b[0m Trial 68 finished with value: 2.0 and parameters: {'x': 0.22813979058919964, 'y': 4.749988268417845}. Best is trial 51 with value: 0.0.\u001b[0m\n",
            "\u001b[32m[I 2023-01-16 10:48:12,637]\u001b[0m Trial 69 finished with value: 5.0 and parameters: {'x': 1.3712812586361633, 'y': 4.984244258607637}. Best is trial 51 with value: 0.0.\u001b[0m\n",
            "\u001b[32m[I 2023-01-16 10:48:12,650]\u001b[0m Trial 70 finished with value: 26.0 and parameters: {'x': -0.12080151884126544, 'y': 6.841360640749841}. Best is trial 51 with value: 0.0.\u001b[0m\n",
            "\u001b[32m[I 2023-01-16 10:48:12,667]\u001b[0m Trial 71 finished with value: 5.0 and parameters: {'x': 0.4688516502975739, 'y': 3.210991691296966}. Best is trial 51 with value: 0.0.\u001b[0m\n",
            "\u001b[32m[I 2023-01-16 10:48:12,689]\u001b[0m Trial 72 finished with value: 5.0 and parameters: {'x': 2.1111214043286557, 'y': 3.228656403520631}. Best is trial 51 with value: 0.0.\u001b[0m\n",
            "\u001b[32m[I 2023-01-16 10:48:12,705]\u001b[0m Trial 73 finished with value: 698.0 and parameters: {'x': 0.43189011155019635, 'y': -8.56995176254814}. Best is trial 51 with value: 0.0.\u001b[0m\n",
            "\u001b[32m[I 2023-01-16 10:48:12,718]\u001b[0m Trial 74 finished with value: 41.0 and parameters: {'x': 3.556225073189093, 'y': 4.125128546270426}. Best is trial 51 with value: 0.0.\u001b[0m\n",
            "\u001b[32m[I 2023-01-16 10:48:12,730]\u001b[0m Trial 75 finished with value: 18.0 and parameters: {'x': 2.1704099701538175, 'y': 4.814814686160519}. Best is trial 51 with value: 0.0.\u001b[0m\n",
            "\u001b[32m[I 2023-01-16 10:48:12,745]\u001b[0m Trial 76 finished with value: 8.0 and parameters: {'x': -1.7336520815321108, 'y': 5.989023209700217}. Best is trial 51 with value: 0.0.\u001b[0m\n",
            "\u001b[32m[I 2023-01-16 10:48:12,757]\u001b[0m Trial 77 finished with value: 45.0 and parameters: {'x': -2.6448743782865924, 'y': 3.9320015768228473}. Best is trial 51 with value: 0.0.\u001b[0m\n",
            "\u001b[32m[I 2023-01-16 10:48:12,767]\u001b[0m Trial 78 finished with value: 5.0 and parameters: {'x': -0.19545635350663673, 'y': 3.2892859394850067}. Best is trial 51 with value: 0.0.\u001b[0m\n",
            "\u001b[32m[I 2023-01-16 10:48:12,780]\u001b[0m Trial 79 finished with value: 53.0 and parameters: {'x': 0.9814295901399422, 'y': 7.74575303504427}. Best is trial 51 with value: 0.0.\u001b[0m\n",
            "\u001b[32m[I 2023-01-16 10:48:12,792]\u001b[0m Trial 80 finished with value: 41.0 and parameters: {'x': -1.0707382404415748, 'y': 2.1667428060947054}. Best is trial 51 with value: 0.0.\u001b[0m\n",
            "\u001b[32m[I 2023-01-16 10:48:12,804]\u001b[0m Trial 81 finished with value: 0.0 and parameters: {'x': 1.7505376917882858, 'y': 3.104402880774817}. Best is trial 51 with value: 0.0.\u001b[0m\n",
            "\u001b[32m[I 2023-01-16 10:48:12,814]\u001b[0m Trial 82 finished with value: 20.0 and parameters: {'x': 1.569023222545579, 'y': 5.104797465612589}. Best is trial 51 with value: 0.0.\u001b[0m\n",
            "\u001b[32m[I 2023-01-16 10:48:12,829]\u001b[0m Trial 83 finished with value: 41.0 and parameters: {'x': -0.6024355130209992, 'y': 1.1989213912921235}. Best is trial 51 with value: 0.0.\u001b[0m\n",
            "\u001b[32m[I 2023-01-16 10:48:12,843]\u001b[0m Trial 84 finished with value: 74.0 and parameters: {'x': 2.628578606109266, 'y': 6.563435782245322}. Best is trial 51 with value: 0.0.\u001b[0m\n",
            "\u001b[32m[I 2023-01-16 10:48:12,857]\u001b[0m Trial 85 finished with value: 18.0 and parameters: {'x': 0.29977444703153355, 'y': 2.9589972028396243}. Best is trial 51 with value: 0.0.\u001b[0m\n",
            "\u001b[32m[I 2023-01-16 10:48:12,874]\u001b[0m Trial 86 finished with value: 74.0 and parameters: {'x': 4.179306052067361, 'y': 4.651999694056177}. Best is trial 51 with value: 0.0.\u001b[0m\n",
            "\u001b[32m[I 2023-01-16 10:48:12,887]\u001b[0m Trial 87 finished with value: 9.0 and parameters: {'x': 2.3770348364886473, 'y': 1.4859646160106075}. Best is trial 51 with value: 0.0.\u001b[0m\n",
            "\u001b[32m[I 2023-01-16 10:48:12,901]\u001b[0m Trial 88 finished with value: 20.0 and parameters: {'x': 1.2966709326253398, 'y': 5.497389290952725}. Best is trial 51 with value: 0.0.\u001b[0m\n",
            "\u001b[32m[I 2023-01-16 10:48:12,914]\u001b[0m Trial 89 finished with value: 5.0 and parameters: {'x': 0.2234787796380457, 'y': 3.2796747543485836}. Best is trial 51 with value: 0.0.\u001b[0m\n",
            "\u001b[32m[I 2023-01-16 10:48:12,926]\u001b[0m Trial 90 finished with value: 20.0 and parameters: {'x': 3.150294314994688, 'y': 3.54680575690048}. Best is trial 51 with value: 0.0.\u001b[0m\n",
            "\u001b[32m[I 2023-01-16 10:48:12,937]\u001b[0m Trial 91 finished with value: 5.0 and parameters: {'x': 1.809175072959838, 'y': 2.5894811207807016}. Best is trial 51 with value: 0.0.\u001b[0m\n",
            "\u001b[32m[I 2023-01-16 10:48:12,953]\u001b[0m Trial 92 finished with value: 45.0 and parameters: {'x': 1.0245773827461788, 'y': 0.42885813852894783}. Best is trial 51 with value: 0.0.\u001b[0m\n",
            "\u001b[32m[I 2023-01-16 10:48:12,969]\u001b[0m Trial 93 finished with value: 20.0 and parameters: {'x': 1.6529000066376693, 'y': 5.188017142748341}. Best is trial 51 with value: 0.0.\u001b[0m\n",
            "\u001b[32m[I 2023-01-16 10:48:12,985]\u001b[0m Trial 94 finished with value: 2.0 and parameters: {'x': -0.29941741439038927, 'y': 4.1979272884797165}. Best is trial 51 with value: 0.0.\u001b[0m\n",
            "\u001b[32m[I 2023-01-16 10:48:13,001]\u001b[0m Trial 95 finished with value: 2.0 and parameters: {'x': -0.3374550000174945, 'y': 4.323757739158079}. Best is trial 51 with value: 0.0.\u001b[0m\n",
            "\u001b[32m[I 2023-01-16 10:48:13,014]\u001b[0m Trial 96 finished with value: 2.0 and parameters: {'x': -0.2051150935606797, 'y': 4.432209238917304}. Best is trial 51 with value: 0.0.\u001b[0m\n",
            "\u001b[32m[I 2023-01-16 10:48:13,028]\u001b[0m Trial 97 finished with value: 2.0 and parameters: {'x': -0.18332144815637186, 'y': 4.4284474853875135}. Best is trial 51 with value: 0.0.\u001b[0m\n",
            "\u001b[32m[I 2023-01-16 10:48:13,041]\u001b[0m Trial 98 finished with value: 26.0 and parameters: {'x': -2.270776539492521, 'y': 4.467557465772454}. Best is trial 51 with value: 0.0.\u001b[0m\n",
            "\u001b[32m[I 2023-01-16 10:48:13,052]\u001b[0m Trial 99 finished with value: 9.0 and parameters: {'x': -1.3893713713881466, 'y': 4.069023136774844}. Best is trial 51 with value: 0.0.\u001b[0m\n"
          ]
        },
        {
          "output_type": "display_data",
          "data": {
            "text/html": [
              "<html>\n",
              "<head><meta charset=\"utf-8\" /></head>\n",
              "<body>\n",
              "    <div>            <script src=\"https://cdnjs.cloudflare.com/ajax/libs/mathjax/2.7.5/MathJax.js?config=TeX-AMS-MML_SVG\"></script><script type=\"text/javascript\">if (window.MathJax) {MathJax.Hub.Config({SVG: {font: \"STIX-Web\"}});}</script>                <script type=\"text/javascript\">window.PlotlyConfig = {MathJaxConfig: 'local'};</script>\n",
              "        <script src=\"https://cdn.plot.ly/plotly-2.8.3.min.js\"></script>                <div id=\"94015d6d-0f58-46aa-8e9a-5d37f1be8084\" class=\"plotly-graph-div\" style=\"height:525px; width:100%;\"></div>            <script type=\"text/javascript\">                                    window.PLOTLYENV=window.PLOTLYENV || {};                                    if (document.getElementById(\"94015d6d-0f58-46aa-8e9a-5d37f1be8084\")) {                    Plotly.newPlot(                        \"94015d6d-0f58-46aa-8e9a-5d37f1be8084\",                        [{\"mode\":\"markers\",\"name\":\"Objective Value\",\"x\":[0,1,2,3,4,5,6,7,8,9,10,11,12,13,14,15,16,17,18,19,20,21,22,23,24,25,26,27,28,29,30,31,32,33,34,35,36,37,38,39,40,41,42,43,44,45,46,47,48,49,50,51,52,53,54,55,56,57,58,59,60,61,62,63,64,65,66,67,68,69,70,71,72,73,74,75,76,77,78,79,80,81,82,83,84,85,86,87,88,89,90,91,92,93,94,95,96,97,98,99],\"y\":[26.0,29.0,761.0,1625.0,416.0,1625.0,164.0,765.0,260.0,365.0,20.0,20.0,5.0,5.0,20.0,9.0,180.0,50.0,8.0,26.0,89.0,9.0,17.0,9.0,18.0,50.0,36.0,261.0,32.0,9.0,74.0,9.0,45.0,65.0,18.0,26.0,113.0,458.0,29.0,137.0,125.0,2.0,2.0,180.0,90.0,18.0,26.0,5.0,5.0,821.0,104.0,0.0,41.0,0.0,45.0,90.0,5.0,53.0,20.0,9.0,45.0,2.0,53.0,18.0,9.0,50.0,5.0,41.0,2.0,5.0,26.0,5.0,5.0,698.0,41.0,18.0,8.0,45.0,5.0,53.0,41.0,0.0,20.0,41.0,74.0,18.0,74.0,9.0,20.0,5.0,20.0,5.0,45.0,20.0,2.0,2.0,2.0,2.0,26.0,9.0],\"type\":\"scatter\"},{\"name\":\"Best Value\",\"x\":[0,1,2,3,4,5,6,7,8,9,10,11,12,13,14,15,16,17,18,19,20,21,22,23,24,25,26,27,28,29,30,31,32,33,34,35,36,37,38,39,40,41,42,43,44,45,46,47,48,49,50,51,52,53,54,55,56,57,58,59,60,61,62,63,64,65,66,67,68,69,70,71,72,73,74,75,76,77,78,79,80,81,82,83,84,85,86,87,88,89,90,91,92,93,94,95,96,97,98,99],\"y\":[26.0,26.0,26.0,26.0,26.0,26.0,26.0,26.0,26.0,26.0,20.0,20.0,5.0,5.0,5.0,5.0,5.0,5.0,5.0,5.0,5.0,5.0,5.0,5.0,5.0,5.0,5.0,5.0,5.0,5.0,5.0,5.0,5.0,5.0,5.0,5.0,5.0,5.0,5.0,5.0,5.0,2.0,2.0,2.0,2.0,2.0,2.0,2.0,2.0,2.0,2.0,0.0,0.0,0.0,0.0,0.0,0.0,0.0,0.0,0.0,0.0,0.0,0.0,0.0,0.0,0.0,0.0,0.0,0.0,0.0,0.0,0.0,0.0,0.0,0.0,0.0,0.0,0.0,0.0,0.0,0.0,0.0,0.0,0.0,0.0,0.0,0.0,0.0,0.0,0.0,0.0,0.0,0.0,0.0,0.0,0.0,0.0,0.0,0.0,0.0],\"type\":\"scatter\"}],                        {\"title\":{\"text\":\"Optimization History Plot\"},\"xaxis\":{\"title\":{\"text\":\"Trial\"}},\"yaxis\":{\"title\":{\"text\":\"Objective Value\"}},\"template\":{\"data\":{\"bar\":[{\"error_x\":{\"color\":\"#2a3f5f\"},\"error_y\":{\"color\":\"#2a3f5f\"},\"marker\":{\"line\":{\"color\":\"#E5ECF6\",\"width\":0.5},\"pattern\":{\"fillmode\":\"overlay\",\"size\":10,\"solidity\":0.2}},\"type\":\"bar\"}],\"barpolar\":[{\"marker\":{\"line\":{\"color\":\"#E5ECF6\",\"width\":0.5},\"pattern\":{\"fillmode\":\"overlay\",\"size\":10,\"solidity\":0.2}},\"type\":\"barpolar\"}],\"carpet\":[{\"aaxis\":{\"endlinecolor\":\"#2a3f5f\",\"gridcolor\":\"white\",\"linecolor\":\"white\",\"minorgridcolor\":\"white\",\"startlinecolor\":\"#2a3f5f\"},\"baxis\":{\"endlinecolor\":\"#2a3f5f\",\"gridcolor\":\"white\",\"linecolor\":\"white\",\"minorgridcolor\":\"white\",\"startlinecolor\":\"#2a3f5f\"},\"type\":\"carpet\"}],\"choropleth\":[{\"colorbar\":{\"outlinewidth\":0,\"ticks\":\"\"},\"type\":\"choropleth\"}],\"contour\":[{\"colorbar\":{\"outlinewidth\":0,\"ticks\":\"\"},\"colorscale\":[[0.0,\"#0d0887\"],[0.1111111111111111,\"#46039f\"],[0.2222222222222222,\"#7201a8\"],[0.3333333333333333,\"#9c179e\"],[0.4444444444444444,\"#bd3786\"],[0.5555555555555556,\"#d8576b\"],[0.6666666666666666,\"#ed7953\"],[0.7777777777777778,\"#fb9f3a\"],[0.8888888888888888,\"#fdca26\"],[1.0,\"#f0f921\"]],\"type\":\"contour\"}],\"contourcarpet\":[{\"colorbar\":{\"outlinewidth\":0,\"ticks\":\"\"},\"type\":\"contourcarpet\"}],\"heatmap\":[{\"colorbar\":{\"outlinewidth\":0,\"ticks\":\"\"},\"colorscale\":[[0.0,\"#0d0887\"],[0.1111111111111111,\"#46039f\"],[0.2222222222222222,\"#7201a8\"],[0.3333333333333333,\"#9c179e\"],[0.4444444444444444,\"#bd3786\"],[0.5555555555555556,\"#d8576b\"],[0.6666666666666666,\"#ed7953\"],[0.7777777777777778,\"#fb9f3a\"],[0.8888888888888888,\"#fdca26\"],[1.0,\"#f0f921\"]],\"type\":\"heatmap\"}],\"heatmapgl\":[{\"colorbar\":{\"outlinewidth\":0,\"ticks\":\"\"},\"colorscale\":[[0.0,\"#0d0887\"],[0.1111111111111111,\"#46039f\"],[0.2222222222222222,\"#7201a8\"],[0.3333333333333333,\"#9c179e\"],[0.4444444444444444,\"#bd3786\"],[0.5555555555555556,\"#d8576b\"],[0.6666666666666666,\"#ed7953\"],[0.7777777777777778,\"#fb9f3a\"],[0.8888888888888888,\"#fdca26\"],[1.0,\"#f0f921\"]],\"type\":\"heatmapgl\"}],\"histogram\":[{\"marker\":{\"pattern\":{\"fillmode\":\"overlay\",\"size\":10,\"solidity\":0.2}},\"type\":\"histogram\"}],\"histogram2d\":[{\"colorbar\":{\"outlinewidth\":0,\"ticks\":\"\"},\"colorscale\":[[0.0,\"#0d0887\"],[0.1111111111111111,\"#46039f\"],[0.2222222222222222,\"#7201a8\"],[0.3333333333333333,\"#9c179e\"],[0.4444444444444444,\"#bd3786\"],[0.5555555555555556,\"#d8576b\"],[0.6666666666666666,\"#ed7953\"],[0.7777777777777778,\"#fb9f3a\"],[0.8888888888888888,\"#fdca26\"],[1.0,\"#f0f921\"]],\"type\":\"histogram2d\"}],\"histogram2dcontour\":[{\"colorbar\":{\"outlinewidth\":0,\"ticks\":\"\"},\"colorscale\":[[0.0,\"#0d0887\"],[0.1111111111111111,\"#46039f\"],[0.2222222222222222,\"#7201a8\"],[0.3333333333333333,\"#9c179e\"],[0.4444444444444444,\"#bd3786\"],[0.5555555555555556,\"#d8576b\"],[0.6666666666666666,\"#ed7953\"],[0.7777777777777778,\"#fb9f3a\"],[0.8888888888888888,\"#fdca26\"],[1.0,\"#f0f921\"]],\"type\":\"histogram2dcontour\"}],\"mesh3d\":[{\"colorbar\":{\"outlinewidth\":0,\"ticks\":\"\"},\"type\":\"mesh3d\"}],\"parcoords\":[{\"line\":{\"colorbar\":{\"outlinewidth\":0,\"ticks\":\"\"}},\"type\":\"parcoords\"}],\"pie\":[{\"automargin\":true,\"type\":\"pie\"}],\"scatter\":[{\"marker\":{\"colorbar\":{\"outlinewidth\":0,\"ticks\":\"\"}},\"type\":\"scatter\"}],\"scatter3d\":[{\"line\":{\"colorbar\":{\"outlinewidth\":0,\"ticks\":\"\"}},\"marker\":{\"colorbar\":{\"outlinewidth\":0,\"ticks\":\"\"}},\"type\":\"scatter3d\"}],\"scattercarpet\":[{\"marker\":{\"colorbar\":{\"outlinewidth\":0,\"ticks\":\"\"}},\"type\":\"scattercarpet\"}],\"scattergeo\":[{\"marker\":{\"colorbar\":{\"outlinewidth\":0,\"ticks\":\"\"}},\"type\":\"scattergeo\"}],\"scattergl\":[{\"marker\":{\"colorbar\":{\"outlinewidth\":0,\"ticks\":\"\"}},\"type\":\"scattergl\"}],\"scattermapbox\":[{\"marker\":{\"colorbar\":{\"outlinewidth\":0,\"ticks\":\"\"}},\"type\":\"scattermapbox\"}],\"scatterpolar\":[{\"marker\":{\"colorbar\":{\"outlinewidth\":0,\"ticks\":\"\"}},\"type\":\"scatterpolar\"}],\"scatterpolargl\":[{\"marker\":{\"colorbar\":{\"outlinewidth\":0,\"ticks\":\"\"}},\"type\":\"scatterpolargl\"}],\"scatterternary\":[{\"marker\":{\"colorbar\":{\"outlinewidth\":0,\"ticks\":\"\"}},\"type\":\"scatterternary\"}],\"surface\":[{\"colorbar\":{\"outlinewidth\":0,\"ticks\":\"\"},\"colorscale\":[[0.0,\"#0d0887\"],[0.1111111111111111,\"#46039f\"],[0.2222222222222222,\"#7201a8\"],[0.3333333333333333,\"#9c179e\"],[0.4444444444444444,\"#bd3786\"],[0.5555555555555556,\"#d8576b\"],[0.6666666666666666,\"#ed7953\"],[0.7777777777777778,\"#fb9f3a\"],[0.8888888888888888,\"#fdca26\"],[1.0,\"#f0f921\"]],\"type\":\"surface\"}],\"table\":[{\"cells\":{\"fill\":{\"color\":\"#EBF0F8\"},\"line\":{\"color\":\"white\"}},\"header\":{\"fill\":{\"color\":\"#C8D4E3\"},\"line\":{\"color\":\"white\"}},\"type\":\"table\"}]},\"layout\":{\"annotationdefaults\":{\"arrowcolor\":\"#2a3f5f\",\"arrowhead\":0,\"arrowwidth\":1},\"autotypenumbers\":\"strict\",\"coloraxis\":{\"colorbar\":{\"outlinewidth\":0,\"ticks\":\"\"}},\"colorscale\":{\"diverging\":[[0,\"#8e0152\"],[0.1,\"#c51b7d\"],[0.2,\"#de77ae\"],[0.3,\"#f1b6da\"],[0.4,\"#fde0ef\"],[0.5,\"#f7f7f7\"],[0.6,\"#e6f5d0\"],[0.7,\"#b8e186\"],[0.8,\"#7fbc41\"],[0.9,\"#4d9221\"],[1,\"#276419\"]],\"sequential\":[[0.0,\"#0d0887\"],[0.1111111111111111,\"#46039f\"],[0.2222222222222222,\"#7201a8\"],[0.3333333333333333,\"#9c179e\"],[0.4444444444444444,\"#bd3786\"],[0.5555555555555556,\"#d8576b\"],[0.6666666666666666,\"#ed7953\"],[0.7777777777777778,\"#fb9f3a\"],[0.8888888888888888,\"#fdca26\"],[1.0,\"#f0f921\"]],\"sequentialminus\":[[0.0,\"#0d0887\"],[0.1111111111111111,\"#46039f\"],[0.2222222222222222,\"#7201a8\"],[0.3333333333333333,\"#9c179e\"],[0.4444444444444444,\"#bd3786\"],[0.5555555555555556,\"#d8576b\"],[0.6666666666666666,\"#ed7953\"],[0.7777777777777778,\"#fb9f3a\"],[0.8888888888888888,\"#fdca26\"],[1.0,\"#f0f921\"]]},\"colorway\":[\"#636efa\",\"#EF553B\",\"#00cc96\",\"#ab63fa\",\"#FFA15A\",\"#19d3f3\",\"#FF6692\",\"#B6E880\",\"#FF97FF\",\"#FECB52\"],\"font\":{\"color\":\"#2a3f5f\"},\"geo\":{\"bgcolor\":\"white\",\"lakecolor\":\"white\",\"landcolor\":\"#E5ECF6\",\"showlakes\":true,\"showland\":true,\"subunitcolor\":\"white\"},\"hoverlabel\":{\"align\":\"left\"},\"hovermode\":\"closest\",\"mapbox\":{\"style\":\"light\"},\"paper_bgcolor\":\"white\",\"plot_bgcolor\":\"#E5ECF6\",\"polar\":{\"angularaxis\":{\"gridcolor\":\"white\",\"linecolor\":\"white\",\"ticks\":\"\"},\"bgcolor\":\"#E5ECF6\",\"radialaxis\":{\"gridcolor\":\"white\",\"linecolor\":\"white\",\"ticks\":\"\"}},\"scene\":{\"xaxis\":{\"backgroundcolor\":\"#E5ECF6\",\"gridcolor\":\"white\",\"gridwidth\":2,\"linecolor\":\"white\",\"showbackground\":true,\"ticks\":\"\",\"zerolinecolor\":\"white\"},\"yaxis\":{\"backgroundcolor\":\"#E5ECF6\",\"gridcolor\":\"white\",\"gridwidth\":2,\"linecolor\":\"white\",\"showbackground\":true,\"ticks\":\"\",\"zerolinecolor\":\"white\"},\"zaxis\":{\"backgroundcolor\":\"#E5ECF6\",\"gridcolor\":\"white\",\"gridwidth\":2,\"linecolor\":\"white\",\"showbackground\":true,\"ticks\":\"\",\"zerolinecolor\":\"white\"}},\"shapedefaults\":{\"line\":{\"color\":\"#2a3f5f\"}},\"ternary\":{\"aaxis\":{\"gridcolor\":\"white\",\"linecolor\":\"white\",\"ticks\":\"\"},\"baxis\":{\"gridcolor\":\"white\",\"linecolor\":\"white\",\"ticks\":\"\"},\"bgcolor\":\"#E5ECF6\",\"caxis\":{\"gridcolor\":\"white\",\"linecolor\":\"white\",\"ticks\":\"\"}},\"title\":{\"x\":0.05},\"xaxis\":{\"automargin\":true,\"gridcolor\":\"white\",\"linecolor\":\"white\",\"ticks\":\"\",\"title\":{\"standoff\":15},\"zerolinecolor\":\"white\",\"zerolinewidth\":2},\"yaxis\":{\"automargin\":true,\"gridcolor\":\"white\",\"linecolor\":\"white\",\"ticks\":\"\",\"title\":{\"standoff\":15},\"zerolinecolor\":\"white\",\"zerolinewidth\":2}}}},                        {\"responsive\": true}                    ).then(function(){\n",
              "                            \n",
              "var gd = document.getElementById('94015d6d-0f58-46aa-8e9a-5d37f1be8084');\n",
              "var x = new MutationObserver(function (mutations, observer) {{\n",
              "        var display = window.getComputedStyle(gd).display;\n",
              "        if (!display || display === 'none') {{\n",
              "            console.log([gd, 'removed!']);\n",
              "            Plotly.purge(gd);\n",
              "            observer.disconnect();\n",
              "        }}\n",
              "}});\n",
              "\n",
              "// Listen for the removal of the full notebook cells\n",
              "var notebookContainer = gd.closest('#notebook-container');\n",
              "if (notebookContainer) {{\n",
              "    x.observe(notebookContainer, {childList: true});\n",
              "}}\n",
              "\n",
              "// Listen for the clearing of the current output cell\n",
              "var outputEl = gd.closest('.output');\n",
              "if (outputEl) {{\n",
              "    x.observe(outputEl, {childList: true});\n",
              "}}\n",
              "\n",
              "                        })                };                            </script>        </div>\n",
              "</body>\n",
              "</html>"
            ]
          },
          "metadata": {}
        },
        {
          "output_type": "stream",
          "name": "stdout",
          "text": [
            "\n",
            "Found x: 1.003183796567401, Found y: 3.3942603574996157, Result: 0.7872987884644939\n"
          ]
        }
      ]
    },
    {
      "cell_type": "markdown",
      "source": [
        "## Поиск оптимума для функции Матьяса"
      ],
      "metadata": {
        "id": "MNVWMjsNz33j"
      }
    },
    {
      "cell_type": "code",
      "source": [
        "study = optuna.create_study()\n",
        "study.optimize(lambda t: objective(t, f = Matiac), n_trials=100)\n",
        "\n",
        "best_params = study.best_params\n",
        "found_x = best_params[\"x\"]\n",
        "found_y = best_params[\"y\"]\n",
        "\n",
        "draw(study)\n",
        "\n",
        "print(f\"\\nFound x: {found_x}, Found y: {found_y}, Result: {Matiac.func([found_x, found_y])}\")\n"
      ],
      "metadata": {
        "colab": {
          "base_uri": "https://localhost:8080/",
          "height": 1000
        },
        "id": "raX5siPfz4Jk",
        "outputId": "0d270905-3c0c-4b0b-98de-fa8cee94bf8b"
      },
      "execution_count": null,
      "outputs": [
        {
          "output_type": "stream",
          "name": "stderr",
          "text": [
            "\u001b[32m[I 2023-01-16 10:48:23,449]\u001b[0m A new study created in memory with name: no-name-17d0e9ac-7d69-4c7f-b896-8068d5125777\u001b[0m\n",
            "\u001b[32m[I 2023-01-16 10:48:23,457]\u001b[0m Trial 0 finished with value: 25.36 and parameters: {'x': -2.964304049819506, 'y': 8.660702377240103}. Best is trial 0 with value: 25.36.\u001b[0m\n",
            "\u001b[32m[I 2023-01-16 10:48:23,460]\u001b[0m Trial 1 finished with value: 20.5 and parameters: {'x': 2.1253803831847424, 'y': -7.041936144204282}. Best is trial 1 with value: 20.5.\u001b[0m\n",
            "\u001b[32m[I 2023-01-16 10:48:23,466]\u001b[0m Trial 2 finished with value: 5.0 and parameters: {'x': 7.9187602814170575, 'y': 3.6851390294447857}. Best is trial 2 with value: 5.0.\u001b[0m\n",
            "\u001b[32m[I 2023-01-16 10:48:23,473]\u001b[0m Trial 3 finished with value: 2.5 and parameters: {'x': -1.8845486853002136, 'y': -4.8445373207260545}. Best is trial 3 with value: 2.5.\u001b[0m\n",
            "\u001b[32m[I 2023-01-16 10:48:23,478]\u001b[0m Trial 4 finished with value: 1.0600000000000005 and parameters: {'x': -4.312891773130179, 'y': -5.082321056353505}. Best is trial 4 with value: 1.0600000000000005.\u001b[0m\n",
            "\u001b[32m[I 2023-01-16 10:48:23,482]\u001b[0m Trial 5 finished with value: 0.7400000000000002 and parameters: {'x': 4.862078891859031, 'y': 3.160700032949048}. Best is trial 5 with value: 0.7400000000000002.\u001b[0m\n",
            "\u001b[32m[I 2023-01-16 10:48:23,485]\u001b[0m Trial 6 finished with value: 2.4400000000000013 and parameters: {'x': 7.762327219580531, 'y': 5.291928435782335}. Best is trial 5 with value: 0.7400000000000002.\u001b[0m\n",
            "\u001b[32m[I 2023-01-16 10:48:23,488]\u001b[0m Trial 7 finished with value: 0.5 and parameters: {'x': -3.3825373436809514, 'y': -2.6956638784690767}. Best is trial 7 with value: 0.5.\u001b[0m\n",
            "\u001b[32m[I 2023-01-16 10:48:23,490]\u001b[0m Trial 8 finished with value: 1.04 and parameters: {'x': 2.6498847333822706, 'y': 0.7333219737327195}. Best is trial 7 with value: 0.5.\u001b[0m\n",
            "\u001b[32m[I 2023-01-16 10:48:23,494]\u001b[0m Trial 9 finished with value: 20.5 and parameters: {'x': 2.37758718208395, 'y': -7.634927520564252}. Best is trial 7 with value: 0.5.\u001b[0m\n",
            "\u001b[32m[I 2023-01-16 10:48:23,508]\u001b[0m Trial 10 finished with value: 17.0 and parameters: {'x': -9.683732829650271, 'y': -1.9676769368263005}. Best is trial 7 with value: 0.5.\u001b[0m\n",
            "\u001b[32m[I 2023-01-16 10:48:23,522]\u001b[0m Trial 11 finished with value: 9.36 and parameters: {'x': -6.650239875647973, 'y': 0.06322875816520063}. Best is trial 7 with value: 0.5.\u001b[0m\n",
            "\u001b[32m[I 2023-01-16 10:48:23,532]\u001b[0m Trial 12 finished with value: 1.6400000000000006 and parameters: {'x': 5.287624466776746, 'y': 3.308834464595468}. Best is trial 7 with value: 0.5.\u001b[0m\n",
            "\u001b[32m[I 2023-01-16 10:48:23,543]\u001b[0m Trial 13 finished with value: 1.04 and parameters: {'x': -0.25711424283774154, 'y': -2.482100759883323}. Best is trial 7 with value: 0.5.\u001b[0m\n",
            "\u001b[32m[I 2023-01-16 10:48:23,553]\u001b[0m Trial 14 finished with value: 3.9400000000000013 and parameters: {'x': 5.112167935126195, 'y': 8.328000734798016}. Best is trial 7 with value: 0.5.\u001b[0m\n",
            "\u001b[32m[I 2023-01-16 10:48:23,563]\u001b[0m Trial 15 finished with value: 9.16 and parameters: {'x': -5.936901872070752, 'y': 1.9557291637536567}. Best is trial 7 with value: 0.5.\u001b[0m\n",
            "\u001b[32m[I 2023-01-16 10:48:23,573]\u001b[0m Trial 16 finished with value: 9.04 and parameters: {'x': 4.994613600982581, 'y': -2.2950845752126163}. Best is trial 7 with value: 0.5.\u001b[0m\n",
            "\u001b[32m[I 2023-01-16 10:48:23,583]\u001b[0m Trial 17 finished with value: 81.0 and parameters: {'x': 9.38536586711232, 'y': -9.949688577251365}. Best is trial 7 with value: 0.5.\u001b[0m\n",
            "\u001b[32m[I 2023-01-16 10:48:23,592]\u001b[0m Trial 18 finished with value: 9.36 and parameters: {'x': -0.09815498277151674, 'y': 6.387564149731013}. Best is trial 7 with value: 0.5.\u001b[0m\n",
            "\u001b[32m[I 2023-01-16 10:48:23,608]\u001b[0m Trial 19 finished with value: 16.64 and parameters: {'x': -8.167749861253018, 'y': -0.6434929760611312}. Best is trial 7 with value: 0.5.\u001b[0m\n",
            "\u001b[32m[I 2023-01-16 10:48:23,620]\u001b[0m Trial 20 finished with value: 1.3600000000000003 and parameters: {'x': -2.061830915848746, 'y': -4.582914082149559}. Best is trial 7 with value: 0.5.\u001b[0m\n",
            "\u001b[32m[I 2023-01-16 10:48:23,633]\u001b[0m Trial 21 finished with value: 0.3400000000000001 and parameters: {'x': 2.557620928914755, 'y': 1.4555611309790315}. Best is trial 21 with value: 0.3400000000000001.\u001b[0m\n",
            "\u001b[32m[I 2023-01-16 10:48:23,647]\u001b[0m Trial 22 finished with value: 0.5 and parameters: {'x': 3.673546569112589, 'y': 2.234910408377396}. Best is trial 21 with value: 0.3400000000000001.\u001b[0m\n",
            "\u001b[32m[I 2023-01-16 10:48:23,664]\u001b[0m Trial 23 finished with value: 0.26 and parameters: {'x': 0.9438013737773399, 'y': 1.7012534030543722}. Best is trial 23 with value: 0.26.\u001b[0m\n",
            "\u001b[32m[I 2023-01-16 10:48:23,676]\u001b[0m Trial 24 finished with value: 4.359999999999999 and parameters: {'x': 1.6520671132961997, 'y': 5.416289009084485}. Best is trial 23 with value: 0.26.\u001b[0m\n",
            "\u001b[32m[I 2023-01-16 10:48:23,692]\u001b[0m Trial 25 finished with value: 1.1600000000000001 and parameters: {'x': 3.515448897883335, 'y': 1.891849920670467}. Best is trial 23 with value: 0.26.\u001b[0m\n",
            "\u001b[32m[I 2023-01-16 10:48:23,704]\u001b[0m Trial 26 finished with value: 0.26 and parameters: {'x': -0.1121976692254972, 'y': 1.38769542624623}. Best is trial 23 with value: 0.26.\u001b[0m\n",
            "\u001b[32m[I 2023-01-16 10:48:23,718]\u001b[0m Trial 27 finished with value: 0.0 and parameters: {'x': 0.3945348333356875, 'y': -0.15113860061204298}. Best is trial 27 with value: 0.0.\u001b[0m\n",
            "\u001b[32m[I 2023-01-16 10:48:23,728]\u001b[0m Trial 28 finished with value: 0.0 and parameters: {'x': 0.4557814712760994, 'y': -0.7044397537774494}. Best is trial 27 with value: 0.0.\u001b[0m\n",
            "\u001b[32m[I 2023-01-16 10:48:23,742]\u001b[0m Trial 29 finished with value: 0.0 and parameters: {'x': -0.7030532378760733, 'y': -0.7702061188797854}. Best is trial 27 with value: 0.0.\u001b[0m\n",
            "\u001b[32m[I 2023-01-16 10:48:23,753]\u001b[0m Trial 30 finished with value: 0.26 and parameters: {'x': -1.5500070637633818, 'y': -0.713316962840136}. Best is trial 27 with value: 0.0.\u001b[0m\n",
            "\u001b[32m[I 2023-01-16 10:48:23,766]\u001b[0m Trial 31 finished with value: 1.04 and parameters: {'x': -2.535732526952507, 'y': -0.5724682847963489}. Best is trial 27 with value: 0.0.\u001b[0m\n",
            "\u001b[32m[I 2023-01-16 10:48:23,778]\u001b[0m Trial 32 finished with value: 2.34 and parameters: {'x': -0.7681235067323559, 'y': -3.6428933959390704}. Best is trial 27 with value: 0.0.\u001b[0m\n",
            "\u001b[32m[I 2023-01-16 10:48:23,793]\u001b[0m Trial 33 finished with value: 4.16 and parameters: {'x': -4.689485217109695, 'y': -0.8753177549003155}. Best is trial 27 with value: 0.0.\u001b[0m\n",
            "\u001b[32m[I 2023-01-16 10:48:23,804]\u001b[0m Trial 34 finished with value: 4.16 and parameters: {'x': 0.7145948759431656, 'y': 4.103754964735622}. Best is trial 27 with value: 0.0.\u001b[0m\n",
            "\u001b[32m[I 2023-01-16 10:48:23,814]\u001b[0m Trial 35 finished with value: 0.040000000000000036 and parameters: {'x': -1.336838793800923, 'y': -1.2225364442093265}. Best is trial 27 with value: 0.0.\u001b[0m\n",
            "\u001b[32m[I 2023-01-16 10:48:23,827]\u001b[0m Trial 36 finished with value: 1.6400000000000006 and parameters: {'x': -3.9725381408853706, 'y': -5.978427318658753}. Best is trial 27 with value: 0.0.\u001b[0m\n",
            "\u001b[32m[I 2023-01-16 10:48:23,842]\u001b[0m Trial 37 finished with value: 1.1600000000000001 and parameters: {'x': -1.5097331685605475, 'y': -3.4264245827990805}. Best is trial 27 with value: 0.0.\u001b[0m\n",
            "\u001b[32m[I 2023-01-16 10:48:23,856]\u001b[0m Trial 38 finished with value: 1.0 and parameters: {'x': 1.2416276464434948, 'y': -1.4903431986672822}. Best is trial 27 with value: 0.0.\u001b[0m\n",
            "\u001b[32m[I 2023-01-16 10:48:23,868]\u001b[0m Trial 39 finished with value: 1.04 and parameters: {'x': -2.9920014403068347, 'y': 0.18238799145381987}. Best is trial 27 with value: 0.0.\u001b[0m\n",
            "\u001b[32m[I 2023-01-16 10:48:23,881]\u001b[0m Trial 40 finished with value: 1.1600000000000001 and parameters: {'x': -1.2601447708742812, 'y': -3.2896012607987526}. Best is trial 27 with value: 0.0.\u001b[0m\n",
            "\u001b[32m[I 2023-01-16 10:48:23,895]\u001b[0m Trial 41 finished with value: 0.040000000000000036 and parameters: {'x': -1.0945187771561704, 'y': -1.4111299096635064}. Best is trial 27 with value: 0.0.\u001b[0m\n",
            "\u001b[32m[I 2023-01-16 10:48:23,913]\u001b[0m Trial 42 finished with value: 0.26 and parameters: {'x': 0.5527253024619709, 'y': -1.4315459878286914}. Best is trial 27 with value: 0.0.\u001b[0m\n",
            "\u001b[32m[I 2023-01-16 10:48:23,926]\u001b[0m Trial 43 finished with value: 4.16 and parameters: {'x': -4.86818917210398, 'y': 0.6787946927084606}. Best is trial 27 with value: 0.0.\u001b[0m\n",
            "\u001b[32m[I 2023-01-16 10:48:23,940]\u001b[0m Trial 44 finished with value: 4.16 and parameters: {'x': -0.8318577272433583, 'y': -4.086444751996609}. Best is trial 27 with value: 0.0.\u001b[0m\n",
            "\u001b[32m[I 2023-01-16 10:48:23,953]\u001b[0m Trial 45 finished with value: 1.6400000000000006 and parameters: {'x': -3.1595364646535646, 'y': -5.904044760312747}. Best is trial 27 with value: 0.0.\u001b[0m\n",
            "\u001b[32m[I 2023-01-16 10:48:23,969]\u001b[0m Trial 46 finished with value: 2.34 and parameters: {'x': 3.389323989414963, 'y': 0.5586379591865249}. Best is trial 27 with value: 0.0.\u001b[0m\n",
            "\u001b[32m[I 2023-01-16 10:48:23,985]\u001b[0m Trial 47 finished with value: 0.3400000000000001 and parameters: {'x': -2.307500875895424, 'y': -1.6203567485062855}. Best is trial 27 with value: 0.0.\u001b[0m\n",
            "\u001b[32m[I 2023-01-16 10:48:24,001]\u001b[0m Trial 48 finished with value: 0.3400000000000001 and parameters: {'x': 1.8776822266573996, 'y': 2.8804781463306153}. Best is trial 27 with value: 0.0.\u001b[0m\n",
            "\u001b[32m[I 2023-01-16 10:48:24,014]\u001b[0m Trial 49 finished with value: 1.04 and parameters: {'x': 0.39676153828184246, 'y': -2.8288342502535393}. Best is trial 27 with value: 0.0.\u001b[0m\n",
            "\u001b[32m[I 2023-01-16 10:48:24,026]\u001b[0m Trial 50 finished with value: 16.16 and parameters: {'x': 6.2372927100273, 'y': -2.1631408121411058}. Best is trial 27 with value: 0.0.\u001b[0m\n",
            "\u001b[32m[I 2023-01-16 10:48:24,038]\u001b[0m Trial 51 finished with value: 0.26 and parameters: {'x': 1.234879837053166, 'y': 0.04157452043358423}. Best is trial 27 with value: 0.0.\u001b[0m\n",
            "\u001b[32m[I 2023-01-16 10:48:24,049]\u001b[0m Trial 52 finished with value: 0.0 and parameters: {'x': -0.6105216314667312, 'y': -0.01681204704107553}. Best is trial 27 with value: 0.0.\u001b[0m\n",
            "\u001b[32m[I 2023-01-16 10:48:24,063]\u001b[0m Trial 53 finished with value: 0.26 and parameters: {'x': -0.463025500421467, 'y': -1.1838388917882852}. Best is trial 27 with value: 0.0.\u001b[0m\n",
            "\u001b[32m[I 2023-01-16 10:48:24,075]\u001b[0m Trial 54 finished with value: 0.26 and parameters: {'x': -1.1629154257559868, 'y': -0.14629483278359134}. Best is trial 27 with value: 0.0.\u001b[0m\n",
            "\u001b[32m[I 2023-01-16 10:48:24,085]\u001b[0m Trial 55 finished with value: 1.04 and parameters: {'x': -2.222180933947488, 'y': 0.7529826941119091}. Best is trial 27 with value: 0.0.\u001b[0m\n",
            "\u001b[32m[I 2023-01-16 10:48:24,097]\u001b[0m Trial 56 finished with value: 6.26 and parameters: {'x': -3.995037950657846, 'y': 2.677707653354652}. Best is trial 27 with value: 0.0.\u001b[0m\n",
            "\u001b[32m[I 2023-01-16 10:48:24,107]\u001b[0m Trial 57 finished with value: 2.34 and parameters: {'x': 0.09065407997481073, 'y': 3.843709815424785}. Best is trial 27 with value: 0.0.\u001b[0m\n",
            "\u001b[32m[I 2023-01-16 10:48:24,119]\u001b[0m Trial 58 finished with value: 4.0 and parameters: {'x': 2.30279558389411, 'y': -2.793378766806911}. Best is trial 27 with value: 0.0.\u001b[0m\n",
            "\u001b[32m[I 2023-01-16 10:48:24,131]\u001b[0m Trial 59 finished with value: 2.26 and parameters: {'x': 2.9984881538331214, 'y': -1.6911187093313422}. Best is trial 27 with value: 0.0.\u001b[0m\n",
            "\u001b[32m[I 2023-01-16 10:48:24,142]\u001b[0m Trial 60 finished with value: 6.5 and parameters: {'x': -5.586700843825992, 'y': 0.984789813095396}. Best is trial 27 with value: 0.0.\u001b[0m\n",
            "\u001b[32m[I 2023-01-16 10:48:24,153]\u001b[0m Trial 61 finished with value: 0.26 and parameters: {'x': -1.260124695771371, 'y': -0.46112039008852623}. Best is trial 27 with value: 0.0.\u001b[0m\n",
            "\u001b[32m[I 2023-01-16 10:48:24,165]\u001b[0m Trial 62 finished with value: 0.26 and parameters: {'x': -1.7963886678878125, 'y': -0.8849308309116171}. Best is trial 27 with value: 0.0.\u001b[0m\n",
            "\u001b[32m[I 2023-01-16 10:48:24,177]\u001b[0m Trial 63 finished with value: 1.04 and parameters: {'x': -0.4447174076616767, 'y': -2.208230990672751}. Best is trial 27 with value: 0.0.\u001b[0m\n",
            "\u001b[32m[I 2023-01-16 10:48:24,190]\u001b[0m Trial 64 finished with value: 0.26 and parameters: {'x': 0.5043823188947603, 'y': -1.2836308924086222}. Best is trial 27 with value: 0.0.\u001b[0m\n",
            "\u001b[32m[I 2023-01-16 10:48:24,201]\u001b[0m Trial 65 finished with value: 0.26 and parameters: {'x': 1.649762201838769, 'y': -0.1066658525278771}. Best is trial 27 with value: 0.0.\u001b[0m\n",
            "\u001b[32m[I 2023-01-16 10:48:24,212]\u001b[0m Trial 66 finished with value: 0.26 and parameters: {'x': 0.3192738737584744, 'y': 1.0550768863895637}. Best is trial 27 with value: 0.0.\u001b[0m\n",
            "\u001b[32m[I 2023-01-16 10:48:24,223]\u001b[0m Trial 67 finished with value: 4.04 and parameters: {'x': -3.411052366989498, 'y': 1.3097707516215331}. Best is trial 27 with value: 0.0.\u001b[0m\n",
            "\u001b[32m[I 2023-01-16 10:48:24,234]\u001b[0m Trial 68 finished with value: 0.26 and parameters: {'x': -0.28628085707373707, 'y': -1.1664842770125419}. Best is trial 27 with value: 0.0.\u001b[0m\n",
            "\u001b[32m[I 2023-01-16 10:48:24,246]\u001b[0m Trial 69 finished with value: 1.3600000000000003 and parameters: {'x': -2.658137454958259, 'y': -4.821721471833945}. Best is trial 27 with value: 0.0.\u001b[0m\n",
            "\u001b[32m[I 2023-01-16 10:48:24,266]\u001b[0m Trial 70 finished with value: 17.0 and parameters: {'x': 1.231355781508382, 'y': 9.538528473362872}. Best is trial 27 with value: 0.0.\u001b[0m\n",
            "\u001b[32m[I 2023-01-16 10:48:24,279]\u001b[0m Trial 71 finished with value: 0.26 and parameters: {'x': -1.7112367666488073, 'y': -0.6685202994757318}. Best is trial 27 with value: 0.0.\u001b[0m\n",
            "\u001b[32m[I 2023-01-16 10:48:24,292]\u001b[0m Trial 72 finished with value: 0.26 and parameters: {'x': -1.0009125413065572, 'y': -0.09620731682876008}. Best is trial 27 with value: 0.0.\u001b[0m\n",
            "\u001b[32m[I 2023-01-16 10:48:24,306]\u001b[0m Trial 73 finished with value: 6.34 and parameters: {'x': 4.369109253589508, 'y': -1.828389526767359}. Best is trial 27 with value: 0.0.\u001b[0m\n",
            "\u001b[32m[I 2023-01-16 10:48:24,318]\u001b[0m Trial 74 finished with value: 1.04 and parameters: {'x': -0.7355866062223378, 'y': -2.571244091318318}. Best is trial 27 with value: 0.0.\u001b[0m\n",
            "\u001b[32m[I 2023-01-16 10:48:24,331]\u001b[0m Trial 75 finished with value: 0.040000000000000036 and parameters: {'x': 1.1167133172770505, 'y': 1.9116664413138273}. Best is trial 27 with value: 0.0.\u001b[0m\n",
            "\u001b[32m[I 2023-01-16 10:48:24,347]\u001b[0m Trial 76 finished with value: 0.26 and parameters: {'x': 0.7127644011968342, 'y': 1.8734187995337779}. Best is trial 27 with value: 0.0.\u001b[0m\n",
            "\u001b[32m[I 2023-01-16 10:48:24,360]\u001b[0m Trial 77 finished with value: 2.34 and parameters: {'x': -0.1073246514932713, 'y': 3.3083619789654053}. Best is trial 27 with value: 0.0.\u001b[0m\n",
            "\u001b[32m[I 2023-01-16 10:48:24,374]\u001b[0m Trial 78 finished with value: 1.3600000000000003 and parameters: {'x': 2.907104706936595, 'y': 4.506145755631984}. Best is trial 27 with value: 0.0.\u001b[0m\n",
            "\u001b[32m[I 2023-01-16 10:48:24,387]\u001b[0m Trial 79 finished with value: 0.26 and parameters: {'x': 1.6287299291352166, 'y': 0.44097981725156643}. Best is trial 27 with value: 0.0.\u001b[0m\n",
            "\u001b[32m[I 2023-01-16 10:48:24,400]\u001b[0m Trial 80 finished with value: 1.04 and parameters: {'x': 2.1475908806412716, 'y': 0.3490331567922116}. Best is trial 27 with value: 0.0.\u001b[0m\n",
            "\u001b[32m[I 2023-01-16 10:48:24,410]\u001b[0m Trial 81 finished with value: 0.26 and parameters: {'x': -0.522029005536477, 'y': -1.3507149292102172}. Best is trial 27 with value: 0.0.\u001b[0m\n",
            "\u001b[32m[I 2023-01-16 10:48:24,424]\u001b[0m Trial 82 finished with value: 0.3400000000000001 and parameters: {'x': 1.0265360852793417, 'y': 2.425192989621374}. Best is trial 27 with value: 0.0.\u001b[0m\n",
            "\u001b[32m[I 2023-01-16 10:48:24,436]\u001b[0m Trial 83 finished with value: 1.0 and parameters: {'x': -1.6492675696777832, 'y': 1.6123944145639462}. Best is trial 27 with value: 0.0.\u001b[0m\n",
            "\u001b[32m[I 2023-01-16 10:48:24,448]\u001b[0m Trial 84 finished with value: 0.26 and parameters: {'x': -1.0033226588929902, 'y': -0.29763192717843584}. Best is trial 27 with value: 0.0.\u001b[0m\n",
            "\u001b[32m[I 2023-01-16 10:48:24,460]\u001b[0m Trial 85 finished with value: 0.0 and parameters: {'x': 0.08255866876467205, 'y': -0.8199271295415399}. Best is trial 27 with value: 0.0.\u001b[0m\n",
            "\u001b[32m[I 2023-01-16 10:48:24,471]\u001b[0m Trial 86 finished with value: 0.16000000000000014 and parameters: {'x': -2.736417013704986, 'y': -2.936696103518271}. Best is trial 27 with value: 0.0.\u001b[0m\n",
            "\u001b[32m[I 2023-01-16 10:48:24,484]\u001b[0m Trial 87 finished with value: 0.7400000000000002 and parameters: {'x': -3.4900187518988943, 'y': -4.18350965313741}. Best is trial 27 with value: 0.0.\u001b[0m\n",
            "\u001b[32m[I 2023-01-16 10:48:24,497]\u001b[0m Trial 88 finished with value: 0.5 and parameters: {'x': -2.6338476426576998, 'y': -3.4856605113409604}. Best is trial 27 with value: 0.0.\u001b[0m\n",
            "\u001b[32m[I 2023-01-16 10:48:24,512]\u001b[0m Trial 89 finished with value: 0.26 and parameters: {'x': 0.25240357451256934, 'y': -1.937132002843473}. Best is trial 27 with value: 0.0.\u001b[0m\n",
            "\u001b[32m[I 2023-01-16 10:48:24,525]\u001b[0m Trial 90 finished with value: 0.3400000000000001 and parameters: {'x': -1.9831563643434598, 'y': -2.9883472334077115}. Best is trial 27 with value: 0.0.\u001b[0m\n",
            "\u001b[32m[I 2023-01-16 10:48:24,537]\u001b[0m Trial 91 finished with value: 0.26 and parameters: {'x': -1.5179118891059757, 'y': -0.8564202856855461}. Best is trial 27 with value: 0.0.\u001b[0m\n",
            "\u001b[32m[I 2023-01-16 10:48:24,549]\u001b[0m Trial 92 finished with value: 0.26 and parameters: {'x': 0.09404729733442663, 'y': 1.0625852457030156}. Best is trial 27 with value: 0.0.\u001b[0m\n",
            "\u001b[32m[I 2023-01-16 10:48:24,564]\u001b[0m Trial 93 finished with value: 1.04 and parameters: {'x': -0.6400130927208403, 'y': -2.338228534390846}. Best is trial 27 with value: 0.0.\u001b[0m\n",
            "\u001b[32m[I 2023-01-16 10:48:24,580]\u001b[0m Trial 94 finished with value: 0.26 and parameters: {'x': 0.7432380593491704, 'y': -1.290204292414583}. Best is trial 27 with value: 0.0.\u001b[0m\n",
            "\u001b[32m[I 2023-01-16 10:48:24,593]\u001b[0m Trial 95 finished with value: 1.04 and parameters: {'x': -2.2189985241810626, 'y': -0.6941354320113851}. Best is trial 27 with value: 0.0.\u001b[0m\n",
            "\u001b[32m[I 2023-01-16 10:48:24,605]\u001b[0m Trial 96 finished with value: 0.26 and parameters: {'x': -1.246906053898752, 'y': 0.49647471424931633}. Best is trial 27 with value: 0.0.\u001b[0m\n",
            "\u001b[32m[I 2023-01-16 10:48:24,618]\u001b[0m Trial 97 finished with value: 0.5 and parameters: {'x': -2.7623991601824813, 'y': -3.9350189808768583}. Best is trial 27 with value: 0.0.\u001b[0m\n",
            "\u001b[32m[I 2023-01-16 10:48:24,629]\u001b[0m Trial 98 finished with value: 6.740000000000001 and parameters: {'x': 1.704114445285902, 'y': 6.704855739652125}. Best is trial 27 with value: 0.0.\u001b[0m\n",
            "\u001b[32m[I 2023-01-16 10:48:24,643]\u001b[0m Trial 99 finished with value: 7.940000000000001 and parameters: {'x': -4.023539589191977, 'y': -9.264456669805206}. Best is trial 27 with value: 0.0.\u001b[0m\n"
          ]
        },
        {
          "output_type": "display_data",
          "data": {
            "text/html": [
              "<html>\n",
              "<head><meta charset=\"utf-8\" /></head>\n",
              "<body>\n",
              "    <div>            <script src=\"https://cdnjs.cloudflare.com/ajax/libs/mathjax/2.7.5/MathJax.js?config=TeX-AMS-MML_SVG\"></script><script type=\"text/javascript\">if (window.MathJax) {MathJax.Hub.Config({SVG: {font: \"STIX-Web\"}});}</script>                <script type=\"text/javascript\">window.PlotlyConfig = {MathJaxConfig: 'local'};</script>\n",
              "        <script src=\"https://cdn.plot.ly/plotly-2.8.3.min.js\"></script>                <div id=\"2c110cf6-d667-427c-aff3-682db0c78fbb\" class=\"plotly-graph-div\" style=\"height:525px; width:100%;\"></div>            <script type=\"text/javascript\">                                    window.PLOTLYENV=window.PLOTLYENV || {};                                    if (document.getElementById(\"2c110cf6-d667-427c-aff3-682db0c78fbb\")) {                    Plotly.newPlot(                        \"2c110cf6-d667-427c-aff3-682db0c78fbb\",                        [{\"mode\":\"markers\",\"name\":\"Objective Value\",\"x\":[0,1,2,3,4,5,6,7,8,9,10,11,12,13,14,15,16,17,18,19,20,21,22,23,24,25,26,27,28,29,30,31,32,33,34,35,36,37,38,39,40,41,42,43,44,45,46,47,48,49,50,51,52,53,54,55,56,57,58,59,60,61,62,63,64,65,66,67,68,69,70,71,72,73,74,75,76,77,78,79,80,81,82,83,84,85,86,87,88,89,90,91,92,93,94,95,96,97,98,99],\"y\":[25.36,20.5,5.0,2.5,1.0600000000000005,0.7400000000000002,2.4400000000000013,0.5,1.04,20.5,17.0,9.36,1.6400000000000006,1.04,3.9400000000000013,9.16,9.04,81.0,9.36,16.64,1.3600000000000003,0.3400000000000001,0.5,0.26,4.359999999999999,1.1600000000000001,0.26,0.0,0.0,0.0,0.26,1.04,2.34,4.16,4.16,0.040000000000000036,1.6400000000000006,1.1600000000000001,1.0,1.04,1.1600000000000001,0.040000000000000036,0.26,4.16,4.16,1.6400000000000006,2.34,0.3400000000000001,0.3400000000000001,1.04,16.16,0.26,0.0,0.26,0.26,1.04,6.26,2.34,4.0,2.26,6.5,0.26,0.26,1.04,0.26,0.26,0.26,4.04,0.26,1.3600000000000003,17.0,0.26,0.26,6.34,1.04,0.040000000000000036,0.26,2.34,1.3600000000000003,0.26,1.04,0.26,0.3400000000000001,1.0,0.26,0.0,0.16000000000000014,0.7400000000000002,0.5,0.26,0.3400000000000001,0.26,0.26,1.04,0.26,1.04,0.26,0.5,6.740000000000001,7.940000000000001],\"type\":\"scatter\"},{\"name\":\"Best Value\",\"x\":[0,1,2,3,4,5,6,7,8,9,10,11,12,13,14,15,16,17,18,19,20,21,22,23,24,25,26,27,28,29,30,31,32,33,34,35,36,37,38,39,40,41,42,43,44,45,46,47,48,49,50,51,52,53,54,55,56,57,58,59,60,61,62,63,64,65,66,67,68,69,70,71,72,73,74,75,76,77,78,79,80,81,82,83,84,85,86,87,88,89,90,91,92,93,94,95,96,97,98,99],\"y\":[25.36,20.5,5.0,2.5,1.0600000000000005,0.7400000000000002,0.7400000000000002,0.5,0.5,0.5,0.5,0.5,0.5,0.5,0.5,0.5,0.5,0.5,0.5,0.5,0.5,0.3400000000000001,0.3400000000000001,0.26,0.26,0.26,0.26,0.0,0.0,0.0,0.0,0.0,0.0,0.0,0.0,0.0,0.0,0.0,0.0,0.0,0.0,0.0,0.0,0.0,0.0,0.0,0.0,0.0,0.0,0.0,0.0,0.0,0.0,0.0,0.0,0.0,0.0,0.0,0.0,0.0,0.0,0.0,0.0,0.0,0.0,0.0,0.0,0.0,0.0,0.0,0.0,0.0,0.0,0.0,0.0,0.0,0.0,0.0,0.0,0.0,0.0,0.0,0.0,0.0,0.0,0.0,0.0,0.0,0.0,0.0,0.0,0.0,0.0,0.0,0.0,0.0,0.0,0.0,0.0,0.0],\"type\":\"scatter\"}],                        {\"title\":{\"text\":\"Optimization History Plot\"},\"xaxis\":{\"title\":{\"text\":\"Trial\"}},\"yaxis\":{\"title\":{\"text\":\"Objective Value\"}},\"template\":{\"data\":{\"bar\":[{\"error_x\":{\"color\":\"#2a3f5f\"},\"error_y\":{\"color\":\"#2a3f5f\"},\"marker\":{\"line\":{\"color\":\"#E5ECF6\",\"width\":0.5},\"pattern\":{\"fillmode\":\"overlay\",\"size\":10,\"solidity\":0.2}},\"type\":\"bar\"}],\"barpolar\":[{\"marker\":{\"line\":{\"color\":\"#E5ECF6\",\"width\":0.5},\"pattern\":{\"fillmode\":\"overlay\",\"size\":10,\"solidity\":0.2}},\"type\":\"barpolar\"}],\"carpet\":[{\"aaxis\":{\"endlinecolor\":\"#2a3f5f\",\"gridcolor\":\"white\",\"linecolor\":\"white\",\"minorgridcolor\":\"white\",\"startlinecolor\":\"#2a3f5f\"},\"baxis\":{\"endlinecolor\":\"#2a3f5f\",\"gridcolor\":\"white\",\"linecolor\":\"white\",\"minorgridcolor\":\"white\",\"startlinecolor\":\"#2a3f5f\"},\"type\":\"carpet\"}],\"choropleth\":[{\"colorbar\":{\"outlinewidth\":0,\"ticks\":\"\"},\"type\":\"choropleth\"}],\"contour\":[{\"colorbar\":{\"outlinewidth\":0,\"ticks\":\"\"},\"colorscale\":[[0.0,\"#0d0887\"],[0.1111111111111111,\"#46039f\"],[0.2222222222222222,\"#7201a8\"],[0.3333333333333333,\"#9c179e\"],[0.4444444444444444,\"#bd3786\"],[0.5555555555555556,\"#d8576b\"],[0.6666666666666666,\"#ed7953\"],[0.7777777777777778,\"#fb9f3a\"],[0.8888888888888888,\"#fdca26\"],[1.0,\"#f0f921\"]],\"type\":\"contour\"}],\"contourcarpet\":[{\"colorbar\":{\"outlinewidth\":0,\"ticks\":\"\"},\"type\":\"contourcarpet\"}],\"heatmap\":[{\"colorbar\":{\"outlinewidth\":0,\"ticks\":\"\"},\"colorscale\":[[0.0,\"#0d0887\"],[0.1111111111111111,\"#46039f\"],[0.2222222222222222,\"#7201a8\"],[0.3333333333333333,\"#9c179e\"],[0.4444444444444444,\"#bd3786\"],[0.5555555555555556,\"#d8576b\"],[0.6666666666666666,\"#ed7953\"],[0.7777777777777778,\"#fb9f3a\"],[0.8888888888888888,\"#fdca26\"],[1.0,\"#f0f921\"]],\"type\":\"heatmap\"}],\"heatmapgl\":[{\"colorbar\":{\"outlinewidth\":0,\"ticks\":\"\"},\"colorscale\":[[0.0,\"#0d0887\"],[0.1111111111111111,\"#46039f\"],[0.2222222222222222,\"#7201a8\"],[0.3333333333333333,\"#9c179e\"],[0.4444444444444444,\"#bd3786\"],[0.5555555555555556,\"#d8576b\"],[0.6666666666666666,\"#ed7953\"],[0.7777777777777778,\"#fb9f3a\"],[0.8888888888888888,\"#fdca26\"],[1.0,\"#f0f921\"]],\"type\":\"heatmapgl\"}],\"histogram\":[{\"marker\":{\"pattern\":{\"fillmode\":\"overlay\",\"size\":10,\"solidity\":0.2}},\"type\":\"histogram\"}],\"histogram2d\":[{\"colorbar\":{\"outlinewidth\":0,\"ticks\":\"\"},\"colorscale\":[[0.0,\"#0d0887\"],[0.1111111111111111,\"#46039f\"],[0.2222222222222222,\"#7201a8\"],[0.3333333333333333,\"#9c179e\"],[0.4444444444444444,\"#bd3786\"],[0.5555555555555556,\"#d8576b\"],[0.6666666666666666,\"#ed7953\"],[0.7777777777777778,\"#fb9f3a\"],[0.8888888888888888,\"#fdca26\"],[1.0,\"#f0f921\"]],\"type\":\"histogram2d\"}],\"histogram2dcontour\":[{\"colorbar\":{\"outlinewidth\":0,\"ticks\":\"\"},\"colorscale\":[[0.0,\"#0d0887\"],[0.1111111111111111,\"#46039f\"],[0.2222222222222222,\"#7201a8\"],[0.3333333333333333,\"#9c179e\"],[0.4444444444444444,\"#bd3786\"],[0.5555555555555556,\"#d8576b\"],[0.6666666666666666,\"#ed7953\"],[0.7777777777777778,\"#fb9f3a\"],[0.8888888888888888,\"#fdca26\"],[1.0,\"#f0f921\"]],\"type\":\"histogram2dcontour\"}],\"mesh3d\":[{\"colorbar\":{\"outlinewidth\":0,\"ticks\":\"\"},\"type\":\"mesh3d\"}],\"parcoords\":[{\"line\":{\"colorbar\":{\"outlinewidth\":0,\"ticks\":\"\"}},\"type\":\"parcoords\"}],\"pie\":[{\"automargin\":true,\"type\":\"pie\"}],\"scatter\":[{\"marker\":{\"colorbar\":{\"outlinewidth\":0,\"ticks\":\"\"}},\"type\":\"scatter\"}],\"scatter3d\":[{\"line\":{\"colorbar\":{\"outlinewidth\":0,\"ticks\":\"\"}},\"marker\":{\"colorbar\":{\"outlinewidth\":0,\"ticks\":\"\"}},\"type\":\"scatter3d\"}],\"scattercarpet\":[{\"marker\":{\"colorbar\":{\"outlinewidth\":0,\"ticks\":\"\"}},\"type\":\"scattercarpet\"}],\"scattergeo\":[{\"marker\":{\"colorbar\":{\"outlinewidth\":0,\"ticks\":\"\"}},\"type\":\"scattergeo\"}],\"scattergl\":[{\"marker\":{\"colorbar\":{\"outlinewidth\":0,\"ticks\":\"\"}},\"type\":\"scattergl\"}],\"scattermapbox\":[{\"marker\":{\"colorbar\":{\"outlinewidth\":0,\"ticks\":\"\"}},\"type\":\"scattermapbox\"}],\"scatterpolar\":[{\"marker\":{\"colorbar\":{\"outlinewidth\":0,\"ticks\":\"\"}},\"type\":\"scatterpolar\"}],\"scatterpolargl\":[{\"marker\":{\"colorbar\":{\"outlinewidth\":0,\"ticks\":\"\"}},\"type\":\"scatterpolargl\"}],\"scatterternary\":[{\"marker\":{\"colorbar\":{\"outlinewidth\":0,\"ticks\":\"\"}},\"type\":\"scatterternary\"}],\"surface\":[{\"colorbar\":{\"outlinewidth\":0,\"ticks\":\"\"},\"colorscale\":[[0.0,\"#0d0887\"],[0.1111111111111111,\"#46039f\"],[0.2222222222222222,\"#7201a8\"],[0.3333333333333333,\"#9c179e\"],[0.4444444444444444,\"#bd3786\"],[0.5555555555555556,\"#d8576b\"],[0.6666666666666666,\"#ed7953\"],[0.7777777777777778,\"#fb9f3a\"],[0.8888888888888888,\"#fdca26\"],[1.0,\"#f0f921\"]],\"type\":\"surface\"}],\"table\":[{\"cells\":{\"fill\":{\"color\":\"#EBF0F8\"},\"line\":{\"color\":\"white\"}},\"header\":{\"fill\":{\"color\":\"#C8D4E3\"},\"line\":{\"color\":\"white\"}},\"type\":\"table\"}]},\"layout\":{\"annotationdefaults\":{\"arrowcolor\":\"#2a3f5f\",\"arrowhead\":0,\"arrowwidth\":1},\"autotypenumbers\":\"strict\",\"coloraxis\":{\"colorbar\":{\"outlinewidth\":0,\"ticks\":\"\"}},\"colorscale\":{\"diverging\":[[0,\"#8e0152\"],[0.1,\"#c51b7d\"],[0.2,\"#de77ae\"],[0.3,\"#f1b6da\"],[0.4,\"#fde0ef\"],[0.5,\"#f7f7f7\"],[0.6,\"#e6f5d0\"],[0.7,\"#b8e186\"],[0.8,\"#7fbc41\"],[0.9,\"#4d9221\"],[1,\"#276419\"]],\"sequential\":[[0.0,\"#0d0887\"],[0.1111111111111111,\"#46039f\"],[0.2222222222222222,\"#7201a8\"],[0.3333333333333333,\"#9c179e\"],[0.4444444444444444,\"#bd3786\"],[0.5555555555555556,\"#d8576b\"],[0.6666666666666666,\"#ed7953\"],[0.7777777777777778,\"#fb9f3a\"],[0.8888888888888888,\"#fdca26\"],[1.0,\"#f0f921\"]],\"sequentialminus\":[[0.0,\"#0d0887\"],[0.1111111111111111,\"#46039f\"],[0.2222222222222222,\"#7201a8\"],[0.3333333333333333,\"#9c179e\"],[0.4444444444444444,\"#bd3786\"],[0.5555555555555556,\"#d8576b\"],[0.6666666666666666,\"#ed7953\"],[0.7777777777777778,\"#fb9f3a\"],[0.8888888888888888,\"#fdca26\"],[1.0,\"#f0f921\"]]},\"colorway\":[\"#636efa\",\"#EF553B\",\"#00cc96\",\"#ab63fa\",\"#FFA15A\",\"#19d3f3\",\"#FF6692\",\"#B6E880\",\"#FF97FF\",\"#FECB52\"],\"font\":{\"color\":\"#2a3f5f\"},\"geo\":{\"bgcolor\":\"white\",\"lakecolor\":\"white\",\"landcolor\":\"#E5ECF6\",\"showlakes\":true,\"showland\":true,\"subunitcolor\":\"white\"},\"hoverlabel\":{\"align\":\"left\"},\"hovermode\":\"closest\",\"mapbox\":{\"style\":\"light\"},\"paper_bgcolor\":\"white\",\"plot_bgcolor\":\"#E5ECF6\",\"polar\":{\"angularaxis\":{\"gridcolor\":\"white\",\"linecolor\":\"white\",\"ticks\":\"\"},\"bgcolor\":\"#E5ECF6\",\"radialaxis\":{\"gridcolor\":\"white\",\"linecolor\":\"white\",\"ticks\":\"\"}},\"scene\":{\"xaxis\":{\"backgroundcolor\":\"#E5ECF6\",\"gridcolor\":\"white\",\"gridwidth\":2,\"linecolor\":\"white\",\"showbackground\":true,\"ticks\":\"\",\"zerolinecolor\":\"white\"},\"yaxis\":{\"backgroundcolor\":\"#E5ECF6\",\"gridcolor\":\"white\",\"gridwidth\":2,\"linecolor\":\"white\",\"showbackground\":true,\"ticks\":\"\",\"zerolinecolor\":\"white\"},\"zaxis\":{\"backgroundcolor\":\"#E5ECF6\",\"gridcolor\":\"white\",\"gridwidth\":2,\"linecolor\":\"white\",\"showbackground\":true,\"ticks\":\"\",\"zerolinecolor\":\"white\"}},\"shapedefaults\":{\"line\":{\"color\":\"#2a3f5f\"}},\"ternary\":{\"aaxis\":{\"gridcolor\":\"white\",\"linecolor\":\"white\",\"ticks\":\"\"},\"baxis\":{\"gridcolor\":\"white\",\"linecolor\":\"white\",\"ticks\":\"\"},\"bgcolor\":\"#E5ECF6\",\"caxis\":{\"gridcolor\":\"white\",\"linecolor\":\"white\",\"ticks\":\"\"}},\"title\":{\"x\":0.05},\"xaxis\":{\"automargin\":true,\"gridcolor\":\"white\",\"linecolor\":\"white\",\"ticks\":\"\",\"title\":{\"standoff\":15},\"zerolinecolor\":\"white\",\"zerolinewidth\":2},\"yaxis\":{\"automargin\":true,\"gridcolor\":\"white\",\"linecolor\":\"white\",\"ticks\":\"\",\"title\":{\"standoff\":15},\"zerolinecolor\":\"white\",\"zerolinewidth\":2}}}},                        {\"responsive\": true}                    ).then(function(){\n",
              "                            \n",
              "var gd = document.getElementById('2c110cf6-d667-427c-aff3-682db0c78fbb');\n",
              "var x = new MutationObserver(function (mutations, observer) {{\n",
              "        var display = window.getComputedStyle(gd).display;\n",
              "        if (!display || display === 'none') {{\n",
              "            console.log([gd, 'removed!']);\n",
              "            Plotly.purge(gd);\n",
              "            observer.disconnect();\n",
              "        }}\n",
              "}});\n",
              "\n",
              "// Listen for the removal of the full notebook cells\n",
              "var notebookContainer = gd.closest('#notebook-container');\n",
              "if (notebookContainer) {{\n",
              "    x.observe(notebookContainer, {childList: true});\n",
              "}}\n",
              "\n",
              "// Listen for the clearing of the current output cell\n",
              "var outputEl = gd.closest('.output');\n",
              "if (outputEl) {{\n",
              "    x.observe(outputEl, {childList: true});\n",
              "}}\n",
              "\n",
              "                        })                };                            </script>        </div>\n",
              "</body>\n",
              "</html>"
            ]
          },
          "metadata": {}
        },
        {
          "output_type": "stream",
          "name": "stdout",
          "text": [
            "\n",
            "Found x: 0.3945348333356875, Found y: -0.15113860061204298, Result: 0.07503229139011766\n"
          ]
        }
      ]
    },
    {
      "cell_type": "markdown",
      "source": [
        "## Загрузка датасета"
      ],
      "metadata": {
        "id": "Quy5PF-T36Jm"
      }
    },
    {
      "cell_type": "code",
      "source": [
        "def objectiv(trial):\n",
        "\n",
        "    # Определим классическую задачу классификации\n",
        "    X, y = make_classification(n_features=10, random_state=1)\n",
        "    X_train, X_test, y_train, y_test = train_test_split(X, y, random_state=1)\n",
        "    C = trial.suggest_float(\"C\", 1e-7, 10.0, log=True)\n",
        "    clf = LogisticRegression(C=C)\n",
        "    \n",
        "    for step in range(100):\n",
        "        clf.fit(X_train, y_train)\n",
        "        intermediate_value = clf.score(X_test, y_test)\n",
        "        trial.report(intermediate_value, step=step)\n",
        "        \n",
        "        if trial.should_prune():\n",
        "          raise optuna.TrialPruned()\n",
        "          \n",
        "    return clf.score(X_test, y_test)\n",
        "\n",
        "\n",
        "study = optuna.create_study(direction=\"maximize\")\n",
        "study.optimize(objectiv, n_trials=10)\n",
        "\n",
        "print(study.best_trial.value) "
      ],
      "metadata": {
        "colab": {
          "base_uri": "https://localhost:8080/"
        },
        "id": "ucMaU-z14TTn",
        "outputId": "137a1e14-93c7-4a7c-d485-b1b1b4ea69d1"
      },
      "execution_count": null,
      "outputs": [
        {
          "output_type": "stream",
          "name": "stderr",
          "text": [
            "\u001b[32m[I 2023-01-16 10:44:59,864]\u001b[0m A new study created in memory with name: no-name-8e6a167f-bd38-49de-b6ae-15d22153f2e4\u001b[0m\n",
            "\u001b[32m[I 2023-01-16 10:45:00,647]\u001b[0m Trial 0 finished with value: 0.44 and parameters: {'C': 0.0007760920892439986}. Best is trial 0 with value: 0.44.\u001b[0m\n",
            "\u001b[32m[I 2023-01-16 10:45:01,343]\u001b[0m Trial 1 finished with value: 0.44 and parameters: {'C': 3.0138224015373886e-05}. Best is trial 0 with value: 0.44.\u001b[0m\n",
            "\u001b[32m[I 2023-01-16 10:45:02,017]\u001b[0m Trial 2 finished with value: 0.92 and parameters: {'C': 2.9203880568348155}. Best is trial 2 with value: 0.92.\u001b[0m\n",
            "\u001b[32m[I 2023-01-16 10:45:03,191]\u001b[0m Trial 3 finished with value: 0.92 and parameters: {'C': 6.076863669669056}. Best is trial 2 with value: 0.92.\u001b[0m\n",
            "\u001b[32m[I 2023-01-16 10:45:03,780]\u001b[0m Trial 4 finished with value: 0.44 and parameters: {'C': 4.325971909456033e-05}. Best is trial 2 with value: 0.92.\u001b[0m\n",
            "\u001b[32m[I 2023-01-16 10:45:04,533]\u001b[0m Trial 5 finished with value: 0.44 and parameters: {'C': 3.7541189614368207e-06}. Best is trial 2 with value: 0.92.\u001b[0m\n",
            "\u001b[32m[I 2023-01-16 10:45:05,134]\u001b[0m Trial 6 finished with value: 0.92 and parameters: {'C': 0.043852797798840874}. Best is trial 2 with value: 0.92.\u001b[0m\n",
            "\u001b[32m[I 2023-01-16 10:45:06,234]\u001b[0m Trial 7 finished with value: 0.44 and parameters: {'C': 7.0849446952518735e-06}. Best is trial 2 with value: 0.92.\u001b[0m\n",
            "\u001b[32m[I 2023-01-16 10:45:07,279]\u001b[0m Trial 8 finished with value: 0.44 and parameters: {'C': 1.368538484731376e-06}. Best is trial 2 with value: 0.92.\u001b[0m\n",
            "\u001b[32m[I 2023-01-16 10:45:08,146]\u001b[0m Trial 9 finished with value: 0.44 and parameters: {'C': 1.4190396388294914e-05}. Best is trial 2 with value: 0.92.\u001b[0m\n"
          ]
        },
        {
          "output_type": "stream",
          "name": "stdout",
          "text": [
            "0.92\n"
          ]
        }
      ]
    },
    {
      "cell_type": "code",
      "source": [
        "draw(study)"
      ],
      "metadata": {
        "colab": {
          "base_uri": "https://localhost:8080/",
          "height": 542
        },
        "id": "jQCoYQLt909L",
        "outputId": "93f17b48-1d33-4256-8a53-3c2e6fb1310c"
      },
      "execution_count": null,
      "outputs": [
        {
          "output_type": "display_data",
          "data": {
            "text/html": [
              "<html>\n",
              "<head><meta charset=\"utf-8\" /></head>\n",
              "<body>\n",
              "    <div>            <script src=\"https://cdnjs.cloudflare.com/ajax/libs/mathjax/2.7.5/MathJax.js?config=TeX-AMS-MML_SVG\"></script><script type=\"text/javascript\">if (window.MathJax) {MathJax.Hub.Config({SVG: {font: \"STIX-Web\"}});}</script>                <script type=\"text/javascript\">window.PlotlyConfig = {MathJaxConfig: 'local'};</script>\n",
              "        <script src=\"https://cdn.plot.ly/plotly-2.8.3.min.js\"></script>                <div id=\"d0cda8d5-f53e-43af-baf6-f2c7b4a8f38e\" class=\"plotly-graph-div\" style=\"height:525px; width:100%;\"></div>            <script type=\"text/javascript\">                                    window.PLOTLYENV=window.PLOTLYENV || {};                                    if (document.getElementById(\"d0cda8d5-f53e-43af-baf6-f2c7b4a8f38e\")) {                    Plotly.newPlot(                        \"d0cda8d5-f53e-43af-baf6-f2c7b4a8f38e\",                        [{\"mode\":\"markers\",\"name\":\"Objective Value\",\"x\":[0,1,2,3,4,5,6,7,8,9],\"y\":[0.44,0.44,0.92,0.92,0.44,0.44,0.92,0.44,0.44,0.44],\"type\":\"scatter\"},{\"name\":\"Best Value\",\"x\":[0,1,2,3,4,5,6,7,8,9],\"y\":[0.44,0.44,0.92,0.92,0.92,0.92,0.92,0.92,0.92,0.92],\"type\":\"scatter\"}],                        {\"title\":{\"text\":\"Optimization History Plot\"},\"xaxis\":{\"title\":{\"text\":\"Trial\"}},\"yaxis\":{\"title\":{\"text\":\"Objective Value\"}},\"template\":{\"data\":{\"bar\":[{\"error_x\":{\"color\":\"#2a3f5f\"},\"error_y\":{\"color\":\"#2a3f5f\"},\"marker\":{\"line\":{\"color\":\"#E5ECF6\",\"width\":0.5},\"pattern\":{\"fillmode\":\"overlay\",\"size\":10,\"solidity\":0.2}},\"type\":\"bar\"}],\"barpolar\":[{\"marker\":{\"line\":{\"color\":\"#E5ECF6\",\"width\":0.5},\"pattern\":{\"fillmode\":\"overlay\",\"size\":10,\"solidity\":0.2}},\"type\":\"barpolar\"}],\"carpet\":[{\"aaxis\":{\"endlinecolor\":\"#2a3f5f\",\"gridcolor\":\"white\",\"linecolor\":\"white\",\"minorgridcolor\":\"white\",\"startlinecolor\":\"#2a3f5f\"},\"baxis\":{\"endlinecolor\":\"#2a3f5f\",\"gridcolor\":\"white\",\"linecolor\":\"white\",\"minorgridcolor\":\"white\",\"startlinecolor\":\"#2a3f5f\"},\"type\":\"carpet\"}],\"choropleth\":[{\"colorbar\":{\"outlinewidth\":0,\"ticks\":\"\"},\"type\":\"choropleth\"}],\"contour\":[{\"colorbar\":{\"outlinewidth\":0,\"ticks\":\"\"},\"colorscale\":[[0.0,\"#0d0887\"],[0.1111111111111111,\"#46039f\"],[0.2222222222222222,\"#7201a8\"],[0.3333333333333333,\"#9c179e\"],[0.4444444444444444,\"#bd3786\"],[0.5555555555555556,\"#d8576b\"],[0.6666666666666666,\"#ed7953\"],[0.7777777777777778,\"#fb9f3a\"],[0.8888888888888888,\"#fdca26\"],[1.0,\"#f0f921\"]],\"type\":\"contour\"}],\"contourcarpet\":[{\"colorbar\":{\"outlinewidth\":0,\"ticks\":\"\"},\"type\":\"contourcarpet\"}],\"heatmap\":[{\"colorbar\":{\"outlinewidth\":0,\"ticks\":\"\"},\"colorscale\":[[0.0,\"#0d0887\"],[0.1111111111111111,\"#46039f\"],[0.2222222222222222,\"#7201a8\"],[0.3333333333333333,\"#9c179e\"],[0.4444444444444444,\"#bd3786\"],[0.5555555555555556,\"#d8576b\"],[0.6666666666666666,\"#ed7953\"],[0.7777777777777778,\"#fb9f3a\"],[0.8888888888888888,\"#fdca26\"],[1.0,\"#f0f921\"]],\"type\":\"heatmap\"}],\"heatmapgl\":[{\"colorbar\":{\"outlinewidth\":0,\"ticks\":\"\"},\"colorscale\":[[0.0,\"#0d0887\"],[0.1111111111111111,\"#46039f\"],[0.2222222222222222,\"#7201a8\"],[0.3333333333333333,\"#9c179e\"],[0.4444444444444444,\"#bd3786\"],[0.5555555555555556,\"#d8576b\"],[0.6666666666666666,\"#ed7953\"],[0.7777777777777778,\"#fb9f3a\"],[0.8888888888888888,\"#fdca26\"],[1.0,\"#f0f921\"]],\"type\":\"heatmapgl\"}],\"histogram\":[{\"marker\":{\"pattern\":{\"fillmode\":\"overlay\",\"size\":10,\"solidity\":0.2}},\"type\":\"histogram\"}],\"histogram2d\":[{\"colorbar\":{\"outlinewidth\":0,\"ticks\":\"\"},\"colorscale\":[[0.0,\"#0d0887\"],[0.1111111111111111,\"#46039f\"],[0.2222222222222222,\"#7201a8\"],[0.3333333333333333,\"#9c179e\"],[0.4444444444444444,\"#bd3786\"],[0.5555555555555556,\"#d8576b\"],[0.6666666666666666,\"#ed7953\"],[0.7777777777777778,\"#fb9f3a\"],[0.8888888888888888,\"#fdca26\"],[1.0,\"#f0f921\"]],\"type\":\"histogram2d\"}],\"histogram2dcontour\":[{\"colorbar\":{\"outlinewidth\":0,\"ticks\":\"\"},\"colorscale\":[[0.0,\"#0d0887\"],[0.1111111111111111,\"#46039f\"],[0.2222222222222222,\"#7201a8\"],[0.3333333333333333,\"#9c179e\"],[0.4444444444444444,\"#bd3786\"],[0.5555555555555556,\"#d8576b\"],[0.6666666666666666,\"#ed7953\"],[0.7777777777777778,\"#fb9f3a\"],[0.8888888888888888,\"#fdca26\"],[1.0,\"#f0f921\"]],\"type\":\"histogram2dcontour\"}],\"mesh3d\":[{\"colorbar\":{\"outlinewidth\":0,\"ticks\":\"\"},\"type\":\"mesh3d\"}],\"parcoords\":[{\"line\":{\"colorbar\":{\"outlinewidth\":0,\"ticks\":\"\"}},\"type\":\"parcoords\"}],\"pie\":[{\"automargin\":true,\"type\":\"pie\"}],\"scatter\":[{\"marker\":{\"colorbar\":{\"outlinewidth\":0,\"ticks\":\"\"}},\"type\":\"scatter\"}],\"scatter3d\":[{\"line\":{\"colorbar\":{\"outlinewidth\":0,\"ticks\":\"\"}},\"marker\":{\"colorbar\":{\"outlinewidth\":0,\"ticks\":\"\"}},\"type\":\"scatter3d\"}],\"scattercarpet\":[{\"marker\":{\"colorbar\":{\"outlinewidth\":0,\"ticks\":\"\"}},\"type\":\"scattercarpet\"}],\"scattergeo\":[{\"marker\":{\"colorbar\":{\"outlinewidth\":0,\"ticks\":\"\"}},\"type\":\"scattergeo\"}],\"scattergl\":[{\"marker\":{\"colorbar\":{\"outlinewidth\":0,\"ticks\":\"\"}},\"type\":\"scattergl\"}],\"scattermapbox\":[{\"marker\":{\"colorbar\":{\"outlinewidth\":0,\"ticks\":\"\"}},\"type\":\"scattermapbox\"}],\"scatterpolar\":[{\"marker\":{\"colorbar\":{\"outlinewidth\":0,\"ticks\":\"\"}},\"type\":\"scatterpolar\"}],\"scatterpolargl\":[{\"marker\":{\"colorbar\":{\"outlinewidth\":0,\"ticks\":\"\"}},\"type\":\"scatterpolargl\"}],\"scatterternary\":[{\"marker\":{\"colorbar\":{\"outlinewidth\":0,\"ticks\":\"\"}},\"type\":\"scatterternary\"}],\"surface\":[{\"colorbar\":{\"outlinewidth\":0,\"ticks\":\"\"},\"colorscale\":[[0.0,\"#0d0887\"],[0.1111111111111111,\"#46039f\"],[0.2222222222222222,\"#7201a8\"],[0.3333333333333333,\"#9c179e\"],[0.4444444444444444,\"#bd3786\"],[0.5555555555555556,\"#d8576b\"],[0.6666666666666666,\"#ed7953\"],[0.7777777777777778,\"#fb9f3a\"],[0.8888888888888888,\"#fdca26\"],[1.0,\"#f0f921\"]],\"type\":\"surface\"}],\"table\":[{\"cells\":{\"fill\":{\"color\":\"#EBF0F8\"},\"line\":{\"color\":\"white\"}},\"header\":{\"fill\":{\"color\":\"#C8D4E3\"},\"line\":{\"color\":\"white\"}},\"type\":\"table\"}]},\"layout\":{\"annotationdefaults\":{\"arrowcolor\":\"#2a3f5f\",\"arrowhead\":0,\"arrowwidth\":1},\"autotypenumbers\":\"strict\",\"coloraxis\":{\"colorbar\":{\"outlinewidth\":0,\"ticks\":\"\"}},\"colorscale\":{\"diverging\":[[0,\"#8e0152\"],[0.1,\"#c51b7d\"],[0.2,\"#de77ae\"],[0.3,\"#f1b6da\"],[0.4,\"#fde0ef\"],[0.5,\"#f7f7f7\"],[0.6,\"#e6f5d0\"],[0.7,\"#b8e186\"],[0.8,\"#7fbc41\"],[0.9,\"#4d9221\"],[1,\"#276419\"]],\"sequential\":[[0.0,\"#0d0887\"],[0.1111111111111111,\"#46039f\"],[0.2222222222222222,\"#7201a8\"],[0.3333333333333333,\"#9c179e\"],[0.4444444444444444,\"#bd3786\"],[0.5555555555555556,\"#d8576b\"],[0.6666666666666666,\"#ed7953\"],[0.7777777777777778,\"#fb9f3a\"],[0.8888888888888888,\"#fdca26\"],[1.0,\"#f0f921\"]],\"sequentialminus\":[[0.0,\"#0d0887\"],[0.1111111111111111,\"#46039f\"],[0.2222222222222222,\"#7201a8\"],[0.3333333333333333,\"#9c179e\"],[0.4444444444444444,\"#bd3786\"],[0.5555555555555556,\"#d8576b\"],[0.6666666666666666,\"#ed7953\"],[0.7777777777777778,\"#fb9f3a\"],[0.8888888888888888,\"#fdca26\"],[1.0,\"#f0f921\"]]},\"colorway\":[\"#636efa\",\"#EF553B\",\"#00cc96\",\"#ab63fa\",\"#FFA15A\",\"#19d3f3\",\"#FF6692\",\"#B6E880\",\"#FF97FF\",\"#FECB52\"],\"font\":{\"color\":\"#2a3f5f\"},\"geo\":{\"bgcolor\":\"white\",\"lakecolor\":\"white\",\"landcolor\":\"#E5ECF6\",\"showlakes\":true,\"showland\":true,\"subunitcolor\":\"white\"},\"hoverlabel\":{\"align\":\"left\"},\"hovermode\":\"closest\",\"mapbox\":{\"style\":\"light\"},\"paper_bgcolor\":\"white\",\"plot_bgcolor\":\"#E5ECF6\",\"polar\":{\"angularaxis\":{\"gridcolor\":\"white\",\"linecolor\":\"white\",\"ticks\":\"\"},\"bgcolor\":\"#E5ECF6\",\"radialaxis\":{\"gridcolor\":\"white\",\"linecolor\":\"white\",\"ticks\":\"\"}},\"scene\":{\"xaxis\":{\"backgroundcolor\":\"#E5ECF6\",\"gridcolor\":\"white\",\"gridwidth\":2,\"linecolor\":\"white\",\"showbackground\":true,\"ticks\":\"\",\"zerolinecolor\":\"white\"},\"yaxis\":{\"backgroundcolor\":\"#E5ECF6\",\"gridcolor\":\"white\",\"gridwidth\":2,\"linecolor\":\"white\",\"showbackground\":true,\"ticks\":\"\",\"zerolinecolor\":\"white\"},\"zaxis\":{\"backgroundcolor\":\"#E5ECF6\",\"gridcolor\":\"white\",\"gridwidth\":2,\"linecolor\":\"white\",\"showbackground\":true,\"ticks\":\"\",\"zerolinecolor\":\"white\"}},\"shapedefaults\":{\"line\":{\"color\":\"#2a3f5f\"}},\"ternary\":{\"aaxis\":{\"gridcolor\":\"white\",\"linecolor\":\"white\",\"ticks\":\"\"},\"baxis\":{\"gridcolor\":\"white\",\"linecolor\":\"white\",\"ticks\":\"\"},\"bgcolor\":\"#E5ECF6\",\"caxis\":{\"gridcolor\":\"white\",\"linecolor\":\"white\",\"ticks\":\"\"}},\"title\":{\"x\":0.05},\"xaxis\":{\"automargin\":true,\"gridcolor\":\"white\",\"linecolor\":\"white\",\"ticks\":\"\",\"title\":{\"standoff\":15},\"zerolinecolor\":\"white\",\"zerolinewidth\":2},\"yaxis\":{\"automargin\":true,\"gridcolor\":\"white\",\"linecolor\":\"white\",\"ticks\":\"\",\"title\":{\"standoff\":15},\"zerolinecolor\":\"white\",\"zerolinewidth\":2}}}},                        {\"responsive\": true}                    ).then(function(){\n",
              "                            \n",
              "var gd = document.getElementById('d0cda8d5-f53e-43af-baf6-f2c7b4a8f38e');\n",
              "var x = new MutationObserver(function (mutations, observer) {{\n",
              "        var display = window.getComputedStyle(gd).display;\n",
              "        if (!display || display === 'none') {{\n",
              "            console.log([gd, 'removed!']);\n",
              "            Plotly.purge(gd);\n",
              "            observer.disconnect();\n",
              "        }}\n",
              "}});\n",
              "\n",
              "// Listen for the removal of the full notebook cells\n",
              "var notebookContainer = gd.closest('#notebook-container');\n",
              "if (notebookContainer) {{\n",
              "    x.observe(notebookContainer, {childList: true});\n",
              "}}\n",
              "\n",
              "// Listen for the clearing of the current output cell\n",
              "var outputEl = gd.closest('.output');\n",
              "if (outputEl) {{\n",
              "    x.observe(outputEl, {childList: true});\n",
              "}}\n",
              "\n",
              "                        })                };                            </script>        </div>\n",
              "</body>\n",
              "</html>"
            ]
          },
          "metadata": {}
        }
      ]
    }
  ]
}
{
  "nbformat": 4,
  "nbformat_minor": 0,
  "metadata": {
    "colab": {
      "provenance": [],
      "authorship_tag": "ABX9TyNTvppk5FHzTe0X3Qkx1BEK",
      "include_colab_link": true
    },
    "kernelspec": {
      "name": "python3",
      "display_name": "Python 3"
    },
    "language_info": {
      "name": "python"
    }
  },
  "cells": [
    {
      "cell_type": "markdown",
      "metadata": {
        "id": "view-in-github",
        "colab_type": "text"
      },
      "source": [
        "<a href=\"https://colab.research.google.com/github/IvanovMaxim2000/Homework_AI/blob/main/ML_Lab_3.ipynb\" target=\"_parent\"><img src=\"https://colab.research.google.com/assets/colab-badge.svg\" alt=\"Open In Colab\"/></a>"
      ]
    },
    {
      "cell_type": "markdown",
      "source": [
        "# Лабораторная работа №3\n",
        "## Numba\n",
        "### Постановка задачи:\n",
        "\n",
        "\n",
        "1.   С помощью функционала библиотеки Numba ускорить работу градиентного спуска и его модификаций\n",
        "2.   Продемонстрировать прирост производительности\n",
        "\n"
      ],
      "metadata": {
        "id": "hBCzcyHvKhAL"
      }
    },
    {
      "cell_type": "markdown",
      "source": [
        "### Импортирование библиотек"
      ],
      "metadata": {
        "id": "ZYdYDSC1LBUD"
      }
    },
    {
      "cell_type": "code",
      "execution_count": null,
      "metadata": {
        "id": "bk1KJkeUKUi-"
      },
      "outputs": [],
      "source": [
        "from matplotlib import pyplot as plt\n",
        "import numpy as np\n",
        "from numpy import linalg as la\n",
        "import numba\n",
        "from datetime import datetime"
      ]
    },
    {
      "cell_type": "code",
      "source": [
        "class But:\n",
        "\n",
        "  @staticmethod\n",
        "  def func(x : np.array):\n",
        "    return (x[0] + 2*x[1] -7)**2 + (2*x[0] + x[1] - 5)**2\n",
        "\n",
        "  @staticmethod\n",
        "  def dx(x : np.array):\n",
        "    return 6*x[0];\n",
        "\n",
        "  @staticmethod\n",
        "  def dy(x : np.array):\n",
        "    return 6*x[1];\n",
        "\n",
        "  @staticmethod\n",
        "  def glob_min():\n",
        "      return np.array([1,3,0])\n",
        "    \n",
        "  @staticmethod\n",
        "  def start_point():\n",
        "      return np.array([-10, 5])"
      ],
      "metadata": {
        "id": "0FMTGM22xCIm"
      },
      "execution_count": null,
      "outputs": []
    },
    {
      "cell_type": "code",
      "source": [
        "class fast_But:\n",
        "\n",
        "    @staticmethod\n",
        "    @numba.njit(fastmath = True)\n",
        "    def func(x : np.array):\n",
        "      return (x[0] + 2*x[1] -7)**2 + (2*x[0] + x[1] - 5)**2\n",
        "\n",
        "    @staticmethod\n",
        "    @numba.njit(fastmath = True)\n",
        "    def dx(x : np.array):\n",
        "      return 6*x[0];\n",
        "\n",
        "    @staticmethod\n",
        "    @numba.njit(fastmath = True)\n",
        "    def dy(x : np.array):\n",
        "      return 6*x[1];\n",
        "\n",
        "    @staticmethod\n",
        "    @numba.njit(fastmath = True)\n",
        "    def glob_min():\n",
        "      return np.array([1,3,0])\n",
        "\n",
        "    @staticmethod\n",
        "    @numba.njit(fastmath = True)\n",
        "    def start_point():\n",
        "      return np.array([-10, 5])"
      ],
      "metadata": {
        "id": "cvi0xHC5LumV"
      },
      "execution_count": null,
      "outputs": []
    },
    {
      "cell_type": "code",
      "source": [
        "class Matiac:\n",
        "\n",
        "  @staticmethod\n",
        "  def func(x : np.array):\n",
        "    return 0.26*(x[0]*x[0] +x[1]*x[1])-0.48*x[0]*x[1]\n",
        "\n",
        "  @staticmethod\n",
        "  def dx(x : np.array):\n",
        "    return 0.52*x[0] - 0.48 * x[1]\n",
        "\n",
        "  @staticmethod\n",
        "  def dy(x : np.array):\n",
        "    return 0.52*x[1] - 0.48 * x[0]\n",
        "\n",
        "  @staticmethod\n",
        "  def glob_min():\n",
        "      return np.array([0,0,0])\n",
        "\n",
        "  @staticmethod\n",
        "  def start_point():\n",
        "      return np.array([-10, 5])\n"
      ],
      "metadata": {
        "id": "2NZQGrujLz8s"
      },
      "execution_count": null,
      "outputs": []
    },
    {
      "cell_type": "code",
      "source": [
        "class fast_Matiac:\n",
        "\n",
        "  @staticmethod\n",
        "  @numba.njit(fastmath = True)\n",
        "  def func(x : np.array):\n",
        "    return 0.26*(x[0]*x[0] +x[1]*x[1])-0.48*x[0]*x[1]\n",
        "\n",
        "  @staticmethod\n",
        "  @numba.njit(fastmath = True)\n",
        "  def dx(x : np.array):\n",
        "    return 0.52*x[0] - 0.48 * x[1]\n",
        "\n",
        "  @staticmethod\n",
        "  @numba.njit(fastmath = True)\n",
        "  def dy(x : np.array):\n",
        "    return 0.52*x[1] - 0.48 * x[0]\n",
        "\n",
        "  @staticmethod\n",
        "  @numba.njit(fastmath = True)\n",
        "  def glob_min():\n",
        "      return np.array([0,0,0])\n",
        "\n",
        "  @staticmethod\n",
        "  @numba.njit(fastmath = True)\n",
        "  def start_point():\n",
        "      return np.array([-10, 5])\n"
      ],
      "metadata": {
        "id": "tygCsRRSxG75"
      },
      "execution_count": null,
      "outputs": []
    },
    {
      "cell_type": "markdown",
      "source": [
        "### Функция для сравнения обычного и ускоренного методов"
      ],
      "metadata": {
        "id": "m_qE7c1euhxe"
      }
    },
    {
      "cell_type": "code",
      "source": [
        "import time"
      ],
      "metadata": {
        "id": "f8RyrYuV0ssQ"
      },
      "execution_count": null,
      "outputs": []
    },
    {
      "cell_type": "code",
      "source": [
        "def time_compare(func, fast_func, GD, fast_GD, x0,y0):\n",
        "    start = time.time()\n",
        "    grad_history_GD = GD(func, x0, y0, 0.1, 250)\n",
        "    end_1 = time.time() - start\n",
        "    \n",
        "    start = time.time()\n",
        "    grad_history_fast_GD = fast_GD(fast_func.func, fast_func.dx, fast_func.dy, fast_func.start_point())\n",
        "    end_2 = time.time() - start\n",
        "    print(f\"Time without Numba:{end_1}\\nTime with Numba:{end_2}\")\n",
        "    print(f\"GD solution: {grad_history_GD[-1]}\\nFast_modification solution: {grad_history_fast_GD[-1]} \")\n"
      ],
      "metadata": {
        "id": "QJ10vYk7uq7r"
      },
      "execution_count": null,
      "outputs": []
    },
    {
      "cell_type": "markdown",
      "source": [
        "## Классический градиентный спуск"
      ],
      "metadata": {
        "id": "_mcd9Pujtxhc"
      }
    },
    {
      "cell_type": "code",
      "source": [
        "def GD( f, x0, y0, lr, max_iterations, delta = 0.001):\n",
        "\n",
        "    '''\n",
        "    f - функция оптимизации\n",
        "    x0,y0 - начальная точка\n",
        "    lr - learning rate(0.1)\n",
        "    max_iterations - максимальное количество итераций)\n",
        "    '''\n",
        "    grad_history = [np.array([x0, y0, f.func(np.array([x0,y0]))])]\n",
        "    i = 0\n",
        "    while (i < max_iterations and la.norm(grad_history[-1] - f.glob_min()) > delta):\n",
        "        i += 1\n",
        "        new_x = x0 - lr * f.dx(np.array([x0,y0]))\n",
        "        new_y = y0 - lr * f.dy(np.array([x0,y0]))\n",
        "        x0 = new_x\n",
        "        y0 = new_y\n",
        "        grad_history.append(np.array([x0, y0, f.func(np.array([x0,y0]))]))\n",
        "       \n",
        "    return grad_history"
      ],
      "metadata": {
        "id": "fRm3pCxSqx96"
      },
      "execution_count": null,
      "outputs": []
    },
    {
      "cell_type": "markdown",
      "source": [
        "### Ускоренный классический градиентный спуск"
      ],
      "metadata": {
        "id": "kTa4QWL3t1Xt"
      }
    },
    {
      "cell_type": "code",
      "source": [
        "@numba.njit(fastmath = True)\n",
        "def faster_GD(func, dx, dy, start_point: np.array, glob_min, lr = 0.1, max_iterations = 50, delta = 0.001) -> np.array:\n",
        "\n",
        "    '''\n",
        "    f - функция оптимизации\n",
        "    x0,y0 - начальная точка\n",
        "    lr - learning rate(0.1)\n",
        "    max_iterations - максимальное количество итераций)\n",
        "    '''\n",
        "\n",
        "    current_point = start_point.copy()\n",
        "    grad_history = [np.array([current_point[0], current_point[1], func(current_point)])]\n",
        "    i = 0\n",
        "    while (i < max_iterations):\n",
        "        current_point[0] = start_point[0] - lr * dx(start_point)\n",
        "        current_point[1] = start_point[1] - lr * dy(start_point)\n",
        "        start_point[0] = current_point[0]\n",
        "        start_point[1] = current_point[1]\n",
        "        grad_history.append(np.array([start_point[0], start_point[1], func(start_point)]))\n",
        "        i += 1\n",
        "       \n",
        "    return grad_history"
      ],
      "metadata": {
        "id": "fH7gGKKit9EP"
      },
      "execution_count": null,
      "outputs": []
    },
    {
      "cell_type": "markdown",
      "source": [
        "### Результаты времени работы с применением Numba и без"
      ],
      "metadata": {
        "id": "XsbvSG02-_QZ"
      }
    },
    {
      "cell_type": "code",
      "source": [
        "x, y = -10, 5\n",
        "%timeit -n100 grad_history = GD(But, x, y, 0.1, 250)"
      ],
      "metadata": {
        "colab": {
          "base_uri": "https://localhost:8080/"
        },
        "id": "pyS1SeyGfXOW",
        "outputId": "bc8adb0b-75f6-45e6-df32-24d2774cca6e"
      },
      "execution_count": null,
      "outputs": [
        {
          "output_type": "stream",
          "name": "stdout",
          "text": [
            "4.11 ms ± 225 µs per loop (mean ± std. dev. of 7 runs, 100 loops each)\n"
          ]
        }
      ]
    },
    {
      "cell_type": "code",
      "source": [
        "%timeit -n100 grad_history = faster_GD(fast_But.func, fast_But.dx, fast_But.dy, fast_But.start_point(), fast_But.glob_min())"
      ],
      "metadata": {
        "id": "M7rNaf8nfgqC",
        "colab": {
          "base_uri": "https://localhost:8080/"
        },
        "outputId": "f22b9902-24b3-4442-87a8-a2325bf27a67"
      },
      "execution_count": null,
      "outputs": [
        {
          "output_type": "stream",
          "name": "stdout",
          "text": [
            "The slowest run took 14.16 times longer than the fastest. This could mean that an intermediate result is being cached.\n",
            "633 µs ± 983 µs per loop (mean ± std. dev. of 7 runs, 100 loops each)\n"
          ]
        }
      ]
    },
    {
      "cell_type": "code",
      "source": [
        "x , y = -10, 5\n",
        "time_compare(But, fast_But, GD, faster_GD, x, y)"
      ],
      "metadata": {
        "id": "9pRGahyQqzeg",
        "colab": {
          "base_uri": "https://localhost:8080/"
        },
        "outputId": "10b0fe68-1390-4080-c3ac-3a96c6c9b622"
      },
      "execution_count": null,
      "outputs": [
        {
          "output_type": "stream",
          "name": "stdout",
          "text": [
            "Time without Numba:0.007699012756347656\n",
            "Time with Numba:0.00500798225402832\n",
            "GD solution: [-3.27339061e-99  1.63669530e-99  7.40000000e+01]\n",
            "Fast_modification solution: [ 0  0 74] \n"
          ]
        }
      ]
    },
    {
      "cell_type": "markdown",
      "source": [
        "## Моментный градиентный спуск"
      ],
      "metadata": {
        "id": "3C5qkJ7muy6j"
      }
    },
    {
      "cell_type": "code",
      "source": [
        "def MGD( f, x0, y0, lr, max_iterations, delta = 0.001):\n",
        "\n",
        "    '''\n",
        "    f - функция оптимизации\n",
        "    x0,y0 - начальная точка\n",
        "    lr - learning rate(0.1)\n",
        "    max_iterations - максимальное количество итераций)\n",
        "    '''\n",
        "    grad_history = [np.array([x0, y0, f.func(np.array([x0,y0]))])]\n",
        "    gamma = 0.7\n",
        "    i = 0\n",
        "    x_prev = x0\n",
        "    y_prev = y0\n",
        "    while (i < max_iterations):\n",
        "        i += 1\n",
        "        new_x = x0 - lr * f.dx(np.array([x0,y0])) + gamma * (x0 - x_prev)\n",
        "        new_y = y0 - lr * f.dy(np.array([x0,y0])) + gamma * (y0 - y_prev)\n",
        "        x_prev = x0\n",
        "        y_prev = y0 \n",
        "        x0 = new_x\n",
        "        y0 = new_y\n",
        "        grad_history.append(np.array([x0, y0, f.func(np.array([x0,y0]))]))\n",
        "       \n",
        "    return grad_history"
      ],
      "metadata": {
        "id": "TWi2-_7iu1-C"
      },
      "execution_count": null,
      "outputs": []
    },
    {
      "cell_type": "markdown",
      "source": [
        "## Ускоренный моментный градиентный спуск"
      ],
      "metadata": {
        "id": "dFFgrRibwj9p"
      }
    },
    {
      "cell_type": "code",
      "source": [
        "@numba.njit(fastmath = True)\n",
        "def fast_MGD( func, dx, dy, start_point, lr = 0.1, max_iterations = 250, delta = 0.001):\n",
        "\n",
        "    '''\n",
        "    f - функция оптимизации\n",
        "    x0,y0 - начальная точка\n",
        "    lr - learning rate(0.1)\n",
        "    max_iterations - максимальное количество итераций)\n",
        "    '''\n",
        "\n",
        "    grad_history = [np.array([start_point[0], start_point[1], func(start_point)])]\n",
        "    gamma = 0.7\n",
        "    i = 0\n",
        "    current_point = start_point.copy()\n",
        "    prev_point = start_point.copy()\n",
        "    while (i < max_iterations):\n",
        "        current_point[0] = start_point[0] - lr * dx(start_point) + gamma * (start_point[0] - prev_point[0])\n",
        "        current_point[1] = start_point[1] - lr * dy(start_point) + gamma * (start_point[1] - prev_point[1])\n",
        "        prev_point[0] = start_point[0]\n",
        "        prev_point[1] = start_point[1] \n",
        "        start_point[0] = current_point[0]\n",
        "        start_point[1] = current_point[1]\n",
        "        grad_history.append(np.array([start_point[0], start_point[1], func(start_point)]))\n",
        "        i += 1\n",
        "       \n",
        "    return grad_history"
      ],
      "metadata": {
        "id": "QvCYgKnBwnUR"
      },
      "execution_count": null,
      "outputs": []
    },
    {
      "cell_type": "markdown",
      "source": [
        "## Сравнение времени работы с применением Numba и без"
      ],
      "metadata": {
        "id": "yKHNW5DSIkNU"
      }
    },
    {
      "cell_type": "code",
      "source": [
        "x, y = -10, 5\n",
        "%timeit -n100 grad_history = MGD(But, x, y, 0.1, 250)"
      ],
      "metadata": {
        "colab": {
          "base_uri": "https://localhost:8080/"
        },
        "id": "Dgu5pyEI7qMO",
        "outputId": "826cd3f4-99cd-491d-efff-dab96aa65bd6"
      },
      "execution_count": null,
      "outputs": [
        {
          "output_type": "stream",
          "name": "stdout",
          "text": [
            "1.91 ms ± 106 µs per loop (mean ± std. dev. of 7 runs, 100 loops each)\n"
          ]
        }
      ]
    },
    {
      "cell_type": "code",
      "source": [
        "x, y = -10, 5\n",
        "%timeit -n100 fast_MGD(fast_But.func, fast_But.dx, fast_But.dy, fast_But.start_point())"
      ],
      "metadata": {
        "colab": {
          "base_uri": "https://localhost:8080/"
        },
        "id": "8CP5bd3-9djO",
        "outputId": "728390c9-2847-4457-e750-b290cb9a2cbc"
      },
      "execution_count": null,
      "outputs": [
        {
          "output_type": "stream",
          "name": "stdout",
          "text": [
            "403 µs ± 45.9 µs per loop (mean ± std. dev. of 7 runs, 100 loops each)\n"
          ]
        }
      ]
    },
    {
      "cell_type": "code",
      "source": [
        "x , y = -10, 5\n",
        "time_compare(But, fast_But, MGD, fast_MGD, x, y)"
      ],
      "metadata": {
        "colab": {
          "base_uri": "https://localhost:8080/"
        },
        "id": "iezG-G7cIptU",
        "outputId": "579e9e52-9ce4-4812-c399-4c5f2930de89"
      },
      "execution_count": null,
      "outputs": [
        {
          "output_type": "stream",
          "name": "stdout",
          "text": [
            "Time without Numba:0.003389596939086914\n",
            "Time with Numba:0.0010728836059570312\n",
            "GD solution: [-4.45693248e-19  2.22846624e-19  7.40000000e+01]\n",
            "Fast_modification solution: [ 0  0 74] \n"
          ]
        }
      ]
    },
    {
      "cell_type": "markdown",
      "source": [
        "## Адаптивный градиентный спуск"
      ],
      "metadata": {
        "id": "ZLYxKWjKvEzt"
      }
    },
    {
      "cell_type": "code",
      "source": [
        "def AGD( f, x0, y0, lr = 0.1, max_iterations = 250, b1 = 0.6, b2 = 0.999, e = 10e-8, delta = 0.001):\n",
        "\n",
        "    '''\n",
        "    f - функция оптимизации\n",
        "    x0,y0 - начальная точка\n",
        "    lr - learning rate(0.1)\n",
        "    max_iterations - максимальное количество итераций)\n",
        "    b1 - коэф. beta1\n",
        "    b2 - коэф. beta2\n",
        "    delta - радиус сходимости\n",
        "    '''\n",
        "    grad_history = [np.array([x0, y0, f.func(np.array([x0,y0]))])]\n",
        "    momentum_1 = np.array([0,0])\n",
        "    momentum_2 = np.array([0,0])\n",
        "    i = 0\n",
        "    while (i < max_iterations):\n",
        "        i += 1\n",
        "        momentum_1 = b1 * momentum_1 + (1 - b1) * np.array([f.dx(np.array([x0,y0])), f.dy(np.array([x0,y0]))]) \n",
        "        momentum_2 = b2 * momentum_2 + (1 - b2) * np.array([f.dx(np.array([x0,y0])), f.dy(np.array([x0,y0]))]) **2\n",
        "        x0 = x0 - lr * momentum_1[0] / (np.sqrt(momentum_2[0]) + e)\n",
        "        y0 = y0 - lr * momentum_1[1] / (np.sqrt(momentum_2[1]) + e)\n",
        "        grad_history.append(np.array([x0, y0, f.func(np.array([x0,y0]))]))\n",
        "       \n",
        "    return grad_history"
      ],
      "metadata": {
        "id": "Iy-bfaPxvH15"
      },
      "execution_count": null,
      "outputs": []
    },
    {
      "cell_type": "markdown",
      "source": [
        "## Ускоренный адаптивный градиентный спуск"
      ],
      "metadata": {
        "id": "aRstqVEtwq4k"
      }
    },
    {
      "cell_type": "code",
      "source": [
        "@numba.njit(fastmath = True)\n",
        "def fast_AGD( func, dx, dy, start_point, lr = 0.1, max_iterations = 250, b1 = 0.6, b2 = 0.999, e = 10e-8, delta = 0.001):\n",
        "\n",
        "    '''\n",
        "    f - функция оптимизации\n",
        "    x0,y0 - начальная точка\n",
        "    lr - learning rate(0.1)\n",
        "    max_iterations - максимальное количество итераций)\n",
        "    b1 - коэф. beta1\n",
        "    b2 - коэф. beta2\n",
        "    delta - радиус сходимости\n",
        "    '''\n",
        "    grad_history = [np.array([start_point[0], start_point[1], func(start_point)])]\n",
        "    current_point = start_point.copy()\n",
        "    momentum_1 = np.array([0.,0.])\n",
        "    momentum_2 = np.array([0.,0.])\n",
        "    i = 0\n",
        "    while (i < max_iterations):\n",
        "        momentum_1 = b1 * momentum_1 + (1 - b1) * np.array([dx(current_point), dy(current_point)]) \n",
        "        momentum_2 = b2 * momentum_2 + (1 - b2) * np.array([dx(current_point), dy(current_point)]) **2\n",
        "        current_point[0] = current_point[0] - lr * momentum_1[0] / (np.sqrt(momentum_2[0]) + e)\n",
        "        current_point[1] = current_point[1] - lr * momentum_1[1] / (np.sqrt(momentum_2[1]) + e)\n",
        "        grad_history.append(np.array([current_point[0], current_point[1], func(current_point)]))\n",
        "        i += 1\n",
        "       \n",
        "    return grad_history"
      ],
      "metadata": {
        "id": "J3sWjAfFwrUv"
      },
      "execution_count": null,
      "outputs": []
    },
    {
      "cell_type": "markdown",
      "source": [
        "## Сравнение времени работы с Numba и без"
      ],
      "metadata": {
        "id": "t9JfV7jLQ4Nk"
      }
    },
    {
      "cell_type": "code",
      "source": [
        "x, y = -10, 5\n",
        "%timeit -n100 grad_history = MGD(But, x, y, 0.1, 250)"
      ],
      "metadata": {
        "colab": {
          "base_uri": "https://localhost:8080/"
        },
        "id": "SVLLk8uCQy-m",
        "outputId": "483a09fa-dd2d-4e14-a4f8-8ac5ea8168ab"
      },
      "execution_count": null,
      "outputs": [
        {
          "output_type": "stream",
          "name": "stdout",
          "text": [
            "1.85 ms ± 64.6 µs per loop (mean ± std. dev. of 7 runs, 100 loops each)\n"
          ]
        }
      ]
    },
    {
      "cell_type": "code",
      "source": [
        "%timeit -n100 fast_AGD(fast_But.func, fast_But.dx, fast_But.dy, fast_But.start_point())"
      ],
      "metadata": {
        "colab": {
          "base_uri": "https://localhost:8080/"
        },
        "id": "L43FjZuLNPbI",
        "outputId": "8a91821a-80a6-4d3b-884d-0545daf2b1a4"
      },
      "execution_count": null,
      "outputs": [
        {
          "output_type": "stream",
          "name": "stdout",
          "text": [
            "525 µs ± 55.4 µs per loop (mean ± std. dev. of 7 runs, 100 loops each)\n"
          ]
        }
      ]
    },
    {
      "cell_type": "code",
      "source": [
        "x , y = -10, 5\n",
        "time_compare(But, fast_But, AGD, fast_AGD, x, y)"
      ],
      "metadata": {
        "colab": {
          "base_uri": "https://localhost:8080/"
        },
        "id": "76-esQoLMl8C",
        "outputId": "48e3407a-7af9-4d8b-d2f2-092b7cf8e43c"
      },
      "execution_count": null,
      "outputs": [
        {
          "output_type": "stream",
          "name": "stdout",
          "text": [
            "Time without Numba:0.011733055114746094\n",
            "Time with Numba:0.0018146038055419922\n",
            "GD solution: [-2.34068379e-27 -6.91088011e-29  7.40000000e+01]\n",
            "Fast_GD solution: [ 0  0 74] \n"
          ]
        }
      ]
    }
  ]
}